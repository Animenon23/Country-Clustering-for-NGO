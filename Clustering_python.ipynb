{
 "cells": [
  {
   "cell_type": "code",
   "execution_count": 5,
   "metadata": {},
   "outputs": [],
   "source": [
    "import warnings\n",
    "warnings.filterwarnings(\"ignore\")"
   ]
  },
  {
   "cell_type": "code",
   "execution_count": 6,
   "metadata": {},
   "outputs": [
    {
     "ename": "ModuleNotFoundError",
     "evalue": "No module named 'plotly'",
     "output_type": "error",
     "traceback": [
      "\u001b[1;31m---------------------------------------------------------------------------\u001b[0m",
      "\u001b[1;31mModuleNotFoundError\u001b[0m                       Traceback (most recent call last)",
      "\u001b[1;32m<ipython-input-6-ccc0a48efc0e>\u001b[0m in \u001b[0;36m<module>\u001b[1;34m\u001b[0m\n\u001b[0;32m      3\u001b[0m \u001b[1;32mimport\u001b[0m \u001b[0mseaborn\u001b[0m \u001b[1;32mas\u001b[0m \u001b[0msns\u001b[0m\u001b[1;33m\u001b[0m\u001b[1;33m\u001b[0m\u001b[0m\n\u001b[0;32m      4\u001b[0m \u001b[1;32mimport\u001b[0m \u001b[0mmatplotlib\u001b[0m\u001b[1;33m.\u001b[0m\u001b[0mpyplot\u001b[0m \u001b[1;32mas\u001b[0m \u001b[0mplt\u001b[0m\u001b[1;33m\u001b[0m\u001b[1;33m\u001b[0m\u001b[0m\n\u001b[1;32m----> 5\u001b[1;33m \u001b[1;32mimport\u001b[0m \u001b[0mplotly\u001b[0m\u001b[1;33m.\u001b[0m\u001b[0mexpress\u001b[0m \u001b[1;32mas\u001b[0m \u001b[0mpx\u001b[0m\u001b[1;33m\u001b[0m\u001b[1;33m\u001b[0m\u001b[0m\n\u001b[0m\u001b[0;32m      6\u001b[0m \u001b[1;33m\u001b[0m\u001b[0m\n\u001b[0;32m      7\u001b[0m \u001b[1;32mfrom\u001b[0m \u001b[0msklearn\u001b[0m\u001b[1;33m.\u001b[0m\u001b[0mcluster\u001b[0m \u001b[1;32mimport\u001b[0m \u001b[0mKMeans\u001b[0m\u001b[1;33m\u001b[0m\u001b[1;33m\u001b[0m\u001b[0m\n",
      "\u001b[1;31mModuleNotFoundError\u001b[0m: No module named 'plotly'"
     ]
    }
   ],
   "source": [
    "import numpy as np\n",
    "import pandas as pd\n",
    "import seaborn as sns\n",
    "import matplotlib.pyplot as plt\n",
    "import plotly.express as px\n",
    "\n",
    "from sklearn.cluster import KMeans\n",
    "\n",
    "from scipy.cluster.hierarchy import linkage\n",
    "from scipy.cluster.hierarchy import dendrogram\n",
    "from scipy.cluster.hierarchy import cut_tree"
   ]
  },
  {
   "cell_type": "code",
   "execution_count": 7,
   "metadata": {},
   "outputs": [
    {
     "data": {
      "text/html": [
       "<div>\n",
       "<style scoped>\n",
       "    .dataframe tbody tr th:only-of-type {\n",
       "        vertical-align: middle;\n",
       "    }\n",
       "\n",
       "    .dataframe tbody tr th {\n",
       "        vertical-align: top;\n",
       "    }\n",
       "\n",
       "    .dataframe thead th {\n",
       "        text-align: right;\n",
       "    }\n",
       "</style>\n",
       "<table border=\"1\" class=\"dataframe\">\n",
       "  <thead>\n",
       "    <tr style=\"text-align: right;\">\n",
       "      <th></th>\n",
       "      <th>country</th>\n",
       "      <th>child_mort</th>\n",
       "      <th>exports</th>\n",
       "      <th>health</th>\n",
       "      <th>imports</th>\n",
       "      <th>income</th>\n",
       "      <th>inflation</th>\n",
       "      <th>life_expec</th>\n",
       "      <th>total_fer</th>\n",
       "      <th>gdpp</th>\n",
       "    </tr>\n",
       "  </thead>\n",
       "  <tbody>\n",
       "    <tr>\n",
       "      <th>0</th>\n",
       "      <td>Afghanistan</td>\n",
       "      <td>90.2</td>\n",
       "      <td>10.0</td>\n",
       "      <td>7.58</td>\n",
       "      <td>44.9</td>\n",
       "      <td>1610</td>\n",
       "      <td>9.44</td>\n",
       "      <td>56.2</td>\n",
       "      <td>5.82</td>\n",
       "      <td>553</td>\n",
       "    </tr>\n",
       "    <tr>\n",
       "      <th>1</th>\n",
       "      <td>Albania</td>\n",
       "      <td>16.6</td>\n",
       "      <td>28.0</td>\n",
       "      <td>6.55</td>\n",
       "      <td>48.6</td>\n",
       "      <td>9930</td>\n",
       "      <td>4.49</td>\n",
       "      <td>76.3</td>\n",
       "      <td>1.65</td>\n",
       "      <td>4090</td>\n",
       "    </tr>\n",
       "    <tr>\n",
       "      <th>2</th>\n",
       "      <td>Algeria</td>\n",
       "      <td>27.3</td>\n",
       "      <td>38.4</td>\n",
       "      <td>4.17</td>\n",
       "      <td>31.4</td>\n",
       "      <td>12900</td>\n",
       "      <td>16.10</td>\n",
       "      <td>76.5</td>\n",
       "      <td>2.89</td>\n",
       "      <td>4460</td>\n",
       "    </tr>\n",
       "    <tr>\n",
       "      <th>3</th>\n",
       "      <td>Angola</td>\n",
       "      <td>119.0</td>\n",
       "      <td>62.3</td>\n",
       "      <td>2.85</td>\n",
       "      <td>42.9</td>\n",
       "      <td>5900</td>\n",
       "      <td>22.40</td>\n",
       "      <td>60.1</td>\n",
       "      <td>6.16</td>\n",
       "      <td>3530</td>\n",
       "    </tr>\n",
       "    <tr>\n",
       "      <th>4</th>\n",
       "      <td>Antigua and Barbuda</td>\n",
       "      <td>10.3</td>\n",
       "      <td>45.5</td>\n",
       "      <td>6.03</td>\n",
       "      <td>58.9</td>\n",
       "      <td>19100</td>\n",
       "      <td>1.44</td>\n",
       "      <td>76.8</td>\n",
       "      <td>2.13</td>\n",
       "      <td>12200</td>\n",
       "    </tr>\n",
       "  </tbody>\n",
       "</table>\n",
       "</div>"
      ],
      "text/plain": [
       "               country  child_mort  exports  health  imports  income  \\\n",
       "0          Afghanistan        90.2     10.0    7.58     44.9    1610   \n",
       "1              Albania        16.6     28.0    6.55     48.6    9930   \n",
       "2              Algeria        27.3     38.4    4.17     31.4   12900   \n",
       "3               Angola       119.0     62.3    2.85     42.9    5900   \n",
       "4  Antigua and Barbuda        10.3     45.5    6.03     58.9   19100   \n",
       "\n",
       "   inflation  life_expec  total_fer   gdpp  \n",
       "0       9.44        56.2       5.82    553  \n",
       "1       4.49        76.3       1.65   4090  \n",
       "2      16.10        76.5       2.89   4460  \n",
       "3      22.40        60.1       6.16   3530  \n",
       "4       1.44        76.8       2.13  12200  "
      ]
     },
     "execution_count": 7,
     "metadata": {},
     "output_type": "execute_result"
    }
   ],
   "source": [
    "df_data = pd.read_csv(\"Country-data.csv\")\n",
    "df_data.head()"
   ]
  },
  {
   "cell_type": "code",
   "execution_count": 8,
   "metadata": {},
   "outputs": [
    {
     "name": "stdout",
     "output_type": "stream",
     "text": [
      "<class 'pandas.core.frame.DataFrame'>\n",
      "RangeIndex: 167 entries, 0 to 166\n",
      "Data columns (total 10 columns):\n",
      " #   Column      Non-Null Count  Dtype  \n",
      "---  ------      --------------  -----  \n",
      " 0   country     167 non-null    object \n",
      " 1   child_mort  167 non-null    float64\n",
      " 2   exports     167 non-null    float64\n",
      " 3   health      167 non-null    float64\n",
      " 4   imports     167 non-null    float64\n",
      " 5   income      167 non-null    int64  \n",
      " 6   inflation   167 non-null    float64\n",
      " 7   life_expec  167 non-null    float64\n",
      " 8   total_fer   167 non-null    float64\n",
      " 9   gdpp        167 non-null    int64  \n",
      "dtypes: float64(7), int64(2), object(1)\n",
      "memory usage: 13.2+ KB\n"
     ]
    }
   ],
   "source": [
    "df_data.info()"
   ]
  },
  {
   "cell_type": "markdown",
   "metadata": {},
   "source": [
    "###### We do no have amy missing values. NO missing value treatment is required in this case"
   ]
  },
  {
   "cell_type": "code",
   "execution_count": 9,
   "metadata": {},
   "outputs": [],
   "source": [
    "#removing the column country\n",
    "data = df_data.drop('country', axis = 1)"
   ]
  },
  {
   "cell_type": "code",
   "execution_count": 10,
   "metadata": {},
   "outputs": [],
   "source": [
    "#exports, health and imports are given as % of GDP Percapita.\n",
    "#Converting percentages to values\n",
    "data.exports = (data.exports / 100 ) * (data.gdpp)\n",
    "data.health = (data.health / 100 ) * (data.gdpp)\n",
    "data.imports = (data.imports / 100 ) * (data.gdpp)"
   ]
  },
  {
   "cell_type": "code",
   "execution_count": 11,
   "metadata": {},
   "outputs": [
    {
     "data": {
      "text/html": [
       "<div>\n",
       "<style scoped>\n",
       "    .dataframe tbody tr th:only-of-type {\n",
       "        vertical-align: middle;\n",
       "    }\n",
       "\n",
       "    .dataframe tbody tr th {\n",
       "        vertical-align: top;\n",
       "    }\n",
       "\n",
       "    .dataframe thead th {\n",
       "        text-align: right;\n",
       "    }\n",
       "</style>\n",
       "<table border=\"1\" class=\"dataframe\">\n",
       "  <thead>\n",
       "    <tr style=\"text-align: right;\">\n",
       "      <th></th>\n",
       "      <th>child_mort</th>\n",
       "      <th>exports</th>\n",
       "      <th>health</th>\n",
       "      <th>imports</th>\n",
       "      <th>income</th>\n",
       "      <th>inflation</th>\n",
       "      <th>life_expec</th>\n",
       "      <th>total_fer</th>\n",
       "      <th>gdpp</th>\n",
       "    </tr>\n",
       "  </thead>\n",
       "  <tbody>\n",
       "    <tr>\n",
       "      <th>0</th>\n",
       "      <td>90.2</td>\n",
       "      <td>55.30</td>\n",
       "      <td>41.9174</td>\n",
       "      <td>248.297</td>\n",
       "      <td>1610</td>\n",
       "      <td>9.44</td>\n",
       "      <td>56.2</td>\n",
       "      <td>5.82</td>\n",
       "      <td>553</td>\n",
       "    </tr>\n",
       "    <tr>\n",
       "      <th>1</th>\n",
       "      <td>16.6</td>\n",
       "      <td>1145.20</td>\n",
       "      <td>267.8950</td>\n",
       "      <td>1987.740</td>\n",
       "      <td>9930</td>\n",
       "      <td>4.49</td>\n",
       "      <td>76.3</td>\n",
       "      <td>1.65</td>\n",
       "      <td>4090</td>\n",
       "    </tr>\n",
       "    <tr>\n",
       "      <th>2</th>\n",
       "      <td>27.3</td>\n",
       "      <td>1712.64</td>\n",
       "      <td>185.9820</td>\n",
       "      <td>1400.440</td>\n",
       "      <td>12900</td>\n",
       "      <td>16.10</td>\n",
       "      <td>76.5</td>\n",
       "      <td>2.89</td>\n",
       "      <td>4460</td>\n",
       "    </tr>\n",
       "    <tr>\n",
       "      <th>3</th>\n",
       "      <td>119.0</td>\n",
       "      <td>2199.19</td>\n",
       "      <td>100.6050</td>\n",
       "      <td>1514.370</td>\n",
       "      <td>5900</td>\n",
       "      <td>22.40</td>\n",
       "      <td>60.1</td>\n",
       "      <td>6.16</td>\n",
       "      <td>3530</td>\n",
       "    </tr>\n",
       "    <tr>\n",
       "      <th>4</th>\n",
       "      <td>10.3</td>\n",
       "      <td>5551.00</td>\n",
       "      <td>735.6600</td>\n",
       "      <td>7185.800</td>\n",
       "      <td>19100</td>\n",
       "      <td>1.44</td>\n",
       "      <td>76.8</td>\n",
       "      <td>2.13</td>\n",
       "      <td>12200</td>\n",
       "    </tr>\n",
       "  </tbody>\n",
       "</table>\n",
       "</div>"
      ],
      "text/plain": [
       "   child_mort  exports    health   imports  income  inflation  life_expec  \\\n",
       "0        90.2    55.30   41.9174   248.297    1610       9.44        56.2   \n",
       "1        16.6  1145.20  267.8950  1987.740    9930       4.49        76.3   \n",
       "2        27.3  1712.64  185.9820  1400.440   12900      16.10        76.5   \n",
       "3       119.0  2199.19  100.6050  1514.370    5900      22.40        60.1   \n",
       "4        10.3  5551.00  735.6600  7185.800   19100       1.44        76.8   \n",
       "\n",
       "   total_fer   gdpp  \n",
       "0       5.82    553  \n",
       "1       1.65   4090  \n",
       "2       2.89   4460  \n",
       "3       6.16   3530  \n",
       "4       2.13  12200  "
      ]
     },
     "execution_count": 11,
     "metadata": {},
     "output_type": "execute_result"
    }
   ],
   "source": [
    "#Maing sure the changes are done\n",
    "data.head()"
   ]
  },
  {
   "cell_type": "code",
   "execution_count": 12,
   "metadata": {},
   "outputs": [
    {
     "data": {
      "image/png": "[encoded data removed]",
      "text/plain": [
       "<Figure size 1296x1080 with 9 Axes>"
      ]
     },
     "metadata": {
      "needs_background": "light"
     },
     "output_type": "display_data"
    }
   ],
   "source": [
    "\n",
    "plt.figure(figsize=(18,15))\n",
    "features = data.columns\n",
    "for i in enumerate(features):\n",
    "    plt.subplot(3,3,i[0]+1)\n",
    "    sns.distplot(data[i[1]])\n",
    "    plt.title(str(i[1]))"
   ]
  },
  {
   "cell_type": "markdown",
   "metadata": {},
   "source": [
    "* Skewness is present in all variables\n",
    "* Mostly allof them are skewed towards right , except **life_expec** (which is left skewed)\n",
    "* This indicates that there are outliers which are meaningful"
   ]
  },
  {
   "cell_type": "code",
   "execution_count": 13,
   "metadata": {},
   "outputs": [
    {
     "data": {
      "text/plain": [
       "child_mort    1.450774\n",
       "exports       6.720171\n",
       "health        2.526029\n",
       "imports       6.618500\n",
       "income        2.231480\n",
       "inflation     5.154049\n",
       "life_expec   -0.970996\n",
       "total_fer     0.967092\n",
       "gdpp          2.218051\n",
       "dtype: float64"
      ]
     },
     "execution_count": 13,
     "metadata": {},
     "output_type": "execute_result"
    }
   ],
   "source": [
    "#checking skewness of each feature before transforming the data\n",
    "data.skew()"
   ]
  },
  {
   "cell_type": "code",
   "execution_count": 14,
   "metadata": {},
   "outputs": [],
   "source": [
    "from sklearn.preprocessing import PowerTransformer\n",
    "pt = PowerTransformer()\n",
    "transformed_data = pd.DataFrame(pt.fit_transform(data))\n",
    "transformed_data.columns= data.columns"
   ]
  },
  {
   "cell_type": "code",
   "execution_count": 15,
   "metadata": {},
   "outputs": [
    {
     "data": {
      "text/html": [
       "<div>\n",
       "<style scoped>\n",
       "    .dataframe tbody tr th:only-of-type {\n",
       "        vertical-align: middle;\n",
       "    }\n",
       "\n",
       "    .dataframe tbody tr th {\n",
       "        vertical-align: top;\n",
       "    }\n",
       "\n",
       "    .dataframe thead th {\n",
       "        text-align: right;\n",
       "    }\n",
       "</style>\n",
       "<table border=\"1\" class=\"dataframe\">\n",
       "  <thead>\n",
       "    <tr style=\"text-align: right;\">\n",
       "      <th></th>\n",
       "      <th>child_mort</th>\n",
       "      <th>exports</th>\n",
       "      <th>health</th>\n",
       "      <th>imports</th>\n",
       "      <th>income</th>\n",
       "      <th>inflation</th>\n",
       "      <th>life_expec</th>\n",
       "      <th>total_fer</th>\n",
       "      <th>gdpp</th>\n",
       "    </tr>\n",
       "  </thead>\n",
       "  <tbody>\n",
       "    <tr>\n",
       "      <th>0</th>\n",
       "      <td>1.266699</td>\n",
       "      <td>-1.658719</td>\n",
       "      <td>-1.239313</td>\n",
       "      <td>-1.246055</td>\n",
       "      <td>-1.368935</td>\n",
       "      <td>0.459416</td>\n",
       "      <td>-1.526455</td>\n",
       "      <td>1.544053</td>\n",
       "      <td>-1.462273</td>\n",
       "    </tr>\n",
       "    <tr>\n",
       "      <th>1</th>\n",
       "      <td>-0.220994</td>\n",
       "      <td>-0.238427</td>\n",
       "      <td>-0.042924</td>\n",
       "      <td>-0.055108</td>\n",
       "      <td>0.012538</td>\n",
       "      <td>-0.154659</td>\n",
       "      <td>0.621738</td>\n",
       "      <td>-0.992833</td>\n",
       "      <td>-0.121133</td>\n",
       "    </tr>\n",
       "    <tr>\n",
       "      <th>2</th>\n",
       "      <td>0.217834</td>\n",
       "      <td>-0.030785</td>\n",
       "      <td>-0.270052</td>\n",
       "      <td>-0.266188</td>\n",
       "      <td>0.232275</td>\n",
       "      <td>1.059790</td>\n",
       "      <td>0.652698</td>\n",
       "      <td>0.313175</td>\n",
       "      <td>-0.063195</td>\n",
       "    </tr>\n",
       "    <tr>\n",
       "      <th>3</th>\n",
       "      <td>1.506186</td>\n",
       "      <td>0.100544</td>\n",
       "      <td>-0.661987</td>\n",
       "      <td>-0.219429</td>\n",
       "      <td>-0.408251</td>\n",
       "      <td>1.512843</td>\n",
       "      <td>-1.239045</td>\n",
       "      <td>1.623128</td>\n",
       "      <td>-0.219666</td>\n",
       "    </tr>\n",
       "    <tr>\n",
       "      <th>4</th>\n",
       "      <td>-0.637380</td>\n",
       "      <td>0.602677</td>\n",
       "      <td>0.563269</td>\n",
       "      <td>0.758134</td>\n",
       "      <td>0.572583</td>\n",
       "      <td>-0.723442</td>\n",
       "      <td>0.699553</td>\n",
       "      <td>-0.368063</td>\n",
       "      <td>0.609228</td>\n",
       "    </tr>\n",
       "  </tbody>\n",
       "</table>\n",
       "</div>"
      ],
      "text/plain": [
       "   child_mort   exports    health   imports    income  inflation  life_expec  \\\n",
       "0    1.266699 -1.658719 -1.239313 -1.246055 -1.368935   0.459416   -1.526455   \n",
       "1   -0.220994 -0.238427 -0.042924 -0.055108  0.012538  -0.154659    0.621738   \n",
       "2    0.217834 -0.030785 -0.270052 -0.266188  0.232275   1.059790    0.652698   \n",
       "3    1.506186  0.100544 -0.661987 -0.219429 -0.408251   1.512843   -1.239045   \n",
       "4   -0.637380  0.602677  0.563269  0.758134  0.572583  -0.723442    0.699553   \n",
       "\n",
       "   total_fer      gdpp  \n",
       "0   1.544053 -1.462273  \n",
       "1  -0.992833 -0.121133  \n",
       "2   0.313175 -0.063195  \n",
       "3   1.623128 -0.219666  \n",
       "4  -0.368063  0.609228  "
      ]
     },
     "execution_count": 15,
     "metadata": {},
     "output_type": "execute_result"
    }
   ],
   "source": [
    "transformed_data.head()"
   ]
  },
  {
   "cell_type": "code",
   "execution_count": 16,
   "metadata": {},
   "outputs": [
    {
     "data": {
      "image/png": "[encoded data removed]",
      "text/plain": [
       "<Figure size 1296x1080 with 9 Axes>"
      ]
     },
     "metadata": {
      "needs_background": "light"
     },
     "output_type": "display_data"
    }
   ],
   "source": [
    "#Plotting all the features to visualise and look their distributions\n",
    "plt.figure(figsize=(18,15))\n",
    "features = transformed_data.columns\n",
    "for i in enumerate(features):\n",
    "    plt.subplot(3,3,i[0]+1)\n",
    "    sns.distplot(transformed_data[i[1]])\n",
    "    plt.title(str(i[1]))"
   ]
  },
  {
   "cell_type": "code",
   "execution_count": 17,
   "metadata": {},
   "outputs": [
    {
     "data": {
      "text/plain": [
       "child_mort    0.015754\n",
       "exports      -0.011631\n",
       "health        0.028684\n",
       "imports       0.008375\n",
       "income       -0.035867\n",
       "inflation     0.182506\n",
       "life_expec   -0.184956\n",
       "total_fer     0.136536\n",
       "gdpp          0.001120\n",
       "dtype: float64"
      ]
     },
     "execution_count": 17,
     "metadata": {},
     "output_type": "execute_result"
    }
   ],
   "source": [
    "#skewness of each feature after transforming the data\n",
    "transformed_data.skew()"
   ]
  },
  {
   "cell_type": "markdown",
   "metadata": {},
   "source": [
    "## K-means Implementation"
   ]
  },
  {
   "cell_type": "code",
   "execution_count": 18,
   "metadata": {},
   "outputs": [
    {
     "ename": "NameError",
     "evalue": "name 'KMeans' is not defined",
     "output_type": "error",
     "traceback": [
      "\u001b[1;31m---------------------------------------------------------------------------\u001b[0m",
      "\u001b[1;31mNameError\u001b[0m                                 Traceback (most recent call last)",
      "\u001b[1;32m<ipython-input-18-5320c5ac554f>\u001b[0m in \u001b[0;36m<module>\u001b[1;34m\u001b[0m\n\u001b[0;32m      4\u001b[0m \u001b[0mcluster_sil_scores\u001b[0m \u001b[1;33m=\u001b[0m \u001b[1;33m[\u001b[0m\u001b[1;33m]\u001b[0m\u001b[1;33m\u001b[0m\u001b[1;33m\u001b[0m\u001b[0m\n\u001b[0;32m      5\u001b[0m \u001b[1;32mfor\u001b[0m \u001b[0mnum_clusters\u001b[0m \u001b[1;32min\u001b[0m \u001b[0mcluster_range\u001b[0m\u001b[1;33m:\u001b[0m\u001b[1;33m\u001b[0m\u001b[1;33m\u001b[0m\u001b[0m\n\u001b[1;32m----> 6\u001b[1;33m   \u001b[0mclusters\u001b[0m \u001b[1;33m=\u001b[0m \u001b[0mKMeans\u001b[0m\u001b[1;33m(\u001b[0m \u001b[0mnum_clusters\u001b[0m\u001b[1;33m,\u001b[0m \u001b[0mn_init\u001b[0m \u001b[1;33m=\u001b[0m \u001b[1;36m100\u001b[0m\u001b[1;33m,\u001b[0m\u001b[0minit\u001b[0m\u001b[1;33m=\u001b[0m\u001b[1;34m'k-means++'\u001b[0m\u001b[1;33m,\u001b[0m\u001b[0mrandom_state\u001b[0m\u001b[1;33m=\u001b[0m\u001b[1;36m0\u001b[0m\u001b[1;33m)\u001b[0m\u001b[1;33m\u001b[0m\u001b[1;33m\u001b[0m\u001b[0m\n\u001b[0m\u001b[0;32m      7\u001b[0m   \u001b[0mclusters\u001b[0m\u001b[1;33m.\u001b[0m\u001b[0mfit\u001b[0m\u001b[1;33m(\u001b[0m\u001b[0mtransformed_data\u001b[0m\u001b[1;33m)\u001b[0m\u001b[1;33m\u001b[0m\u001b[1;33m\u001b[0m\u001b[0m\n\u001b[0;32m      8\u001b[0m   \u001b[0mlabels\u001b[0m \u001b[1;33m=\u001b[0m \u001b[0mclusters\u001b[0m\u001b[1;33m.\u001b[0m\u001b[0mlabels_\u001b[0m                     \u001b[1;31m# capture the cluster lables\u001b[0m\u001b[1;33m\u001b[0m\u001b[1;33m\u001b[0m\u001b[0m\n",
      "\u001b[1;31mNameError\u001b[0m: name 'KMeans' is not defined"
     ]
    }
   ],
   "source": [
    "#Finding Optimal number of Clusters using elbow methed\n",
    "cluster_range = range( 1, 15)\n",
    "cluster_errors = []\n",
    "cluster_sil_scores = []\n",
    "for num_clusters in cluster_range:\n",
    "  clusters = KMeans( num_clusters, n_init = 100,init='k-means++',random_state=0)\n",
    "  clusters.fit(transformed_data)\n",
    "  labels = clusters.labels_                     # capture the cluster lables\n",
    "  centroids = clusters.cluster_centers_         # capture the centroids\n",
    "  cluster_errors.append( clusters.inertia_ )    # capture the intertia\n",
    "# combine the cluster_range and cluster_errors into a dataframe by combining them\n",
    "clusters_df = pd.DataFrame( { \"num_clusters\":cluster_range, \"cluster_errors\": cluster_errors} )\n",
    "clusters_df[0:10] "
   ]
  },
  {
   "cell_type": "code",
   "execution_count": 19,
   "metadata": {},
   "outputs": [
    {
     "ename": "NameError",
     "evalue": "name 'clusters_df' is not defined",
     "output_type": "error",
     "traceback": [
      "\u001b[1;31m---------------------------------------------------------------------------\u001b[0m",
      "\u001b[1;31mNameError\u001b[0m                                 Traceback (most recent call last)",
      "\u001b[1;32m<ipython-input-19-fe82c02d7ff4>\u001b[0m in \u001b[0;36m<module>\u001b[1;34m\u001b[0m\n\u001b[0;32m      2\u001b[0m \u001b[1;33m\u001b[0m\u001b[0m\n\u001b[0;32m      3\u001b[0m \u001b[0mplt\u001b[0m\u001b[1;33m.\u001b[0m\u001b[0mfigure\u001b[0m\u001b[1;33m(\u001b[0m\u001b[0mfigsize\u001b[0m\u001b[1;33m=\u001b[0m\u001b[1;33m(\u001b[0m\u001b[1;36m12\u001b[0m\u001b[1;33m,\u001b[0m\u001b[1;36m6\u001b[0m\u001b[1;33m)\u001b[0m\u001b[1;33m)\u001b[0m\u001b[1;33m\u001b[0m\u001b[1;33m\u001b[0m\u001b[0m\n\u001b[1;32m----> 4\u001b[1;33m \u001b[0mplt\u001b[0m\u001b[1;33m.\u001b[0m\u001b[0mplot\u001b[0m\u001b[1;33m(\u001b[0m\u001b[0mclusters_df\u001b[0m\u001b[1;33m.\u001b[0m\u001b[0mnum_clusters\u001b[0m\u001b[1;33m,\u001b[0m \u001b[0mclusters_df\u001b[0m\u001b[1;33m.\u001b[0m\u001b[0mcluster_errors\u001b[0m\u001b[1;33m,\u001b[0m \u001b[0mmarker\u001b[0m \u001b[1;33m=\u001b[0m \u001b[1;34m\"o\"\u001b[0m \u001b[1;33m)\u001b[0m\u001b[1;33m\u001b[0m\u001b[1;33m\u001b[0m\u001b[0m\n\u001b[0m\u001b[0;32m      5\u001b[0m \u001b[0mplt\u001b[0m\u001b[1;33m.\u001b[0m\u001b[0mxlabel\u001b[0m\u001b[1;33m(\u001b[0m\u001b[1;34m\"Number of Clusters\"\u001b[0m\u001b[1;33m)\u001b[0m\u001b[1;33m\u001b[0m\u001b[1;33m\u001b[0m\u001b[0m\n\u001b[0;32m      6\u001b[0m \u001b[0mplt\u001b[0m\u001b[1;33m.\u001b[0m\u001b[0mylabel\u001b[0m\u001b[1;33m(\u001b[0m\u001b[1;34m\"Cluster Errors\"\u001b[0m\u001b[1;33m)\u001b[0m\u001b[1;33m\u001b[0m\u001b[1;33m\u001b[0m\u001b[0m\n",
      "\u001b[1;31mNameError\u001b[0m: name 'clusters_df' is not defined"
     ]
    },
    {
     "data": {
      "text/plain": [
       "<Figure size 864x432 with 0 Axes>"
      ]
     },
     "metadata": {},
     "output_type": "display_data"
    }
   ],
   "source": [
    "# Elbow plot\n",
    "\n",
    "plt.figure(figsize=(12,6))\n",
    "plt.plot(clusters_df.num_clusters, clusters_df.cluster_errors, marker = \"o\" )\n",
    "plt.xlabel(\"Number of Clusters\")\n",
    "plt.ylabel(\"Cluster Errors\")\n",
    "plt.title(\"Elbow Curve\")\n",
    "plt.show()"
   ]
  },
  {
   "cell_type": "markdown",
   "metadata": {},
   "source": [
    "#### From the above Elbow plot, we found that Optimal number of Clusters = 3\n",
    "#### Implementing K-Means with number of clusters as \"3\""
   ]
  },
  {
   "cell_type": "code",
   "execution_count": 24,
   "metadata": {},
   "outputs": [
    {
     "ename": "NameError",
     "evalue": "name 'KMeans' is not defined",
     "output_type": "error",
     "traceback": [
      "\u001b[1;31m---------------------------------------------------------------------------\u001b[0m",
      "\u001b[1;31mNameError\u001b[0m                                 Traceback (most recent call last)",
      "\u001b[1;32m<ipython-input-24-dbeb04c8dd76>\u001b[0m in \u001b[0;36m<module>\u001b[1;34m\u001b[0m\n\u001b[0;32m      1\u001b[0m \u001b[1;31m# Number of clusters = 3\u001b[0m\u001b[1;33m\u001b[0m\u001b[1;33m\u001b[0m\u001b[1;33m\u001b[0m\u001b[0m\n\u001b[1;32m----> 2\u001b[1;33m \u001b[0mkmeans\u001b[0m \u001b[1;33m=\u001b[0m \u001b[0mKMeans\u001b[0m\u001b[1;33m(\u001b[0m\u001b[0mn_clusters\u001b[0m\u001b[1;33m=\u001b[0m\u001b[1;36m3\u001b[0m\u001b[1;33m,\u001b[0m\u001b[0mn_init\u001b[0m \u001b[1;33m=\u001b[0m \u001b[1;36m100\u001b[0m\u001b[1;33m,\u001b[0m\u001b[0minit\u001b[0m\u001b[1;33m=\u001b[0m\u001b[1;34m'k-means++'\u001b[0m\u001b[1;33m,\u001b[0m\u001b[0mrandom_state\u001b[0m\u001b[1;33m=\u001b[0m\u001b[1;36m0\u001b[0m\u001b[1;33m)\u001b[0m\u001b[1;33m\u001b[0m\u001b[1;33m\u001b[0m\u001b[0m\n\u001b[0m\u001b[0;32m      3\u001b[0m \u001b[1;31m# Fitting the input data\u001b[0m\u001b[1;33m\u001b[0m\u001b[1;33m\u001b[0m\u001b[1;33m\u001b[0m\u001b[0m\n\u001b[0;32m      4\u001b[0m \u001b[0mkmeans\u001b[0m \u001b[1;33m=\u001b[0m \u001b[0mkmeans\u001b[0m\u001b[1;33m.\u001b[0m\u001b[0mfit\u001b[0m\u001b[1;33m(\u001b[0m\u001b[0mtransformed_data\u001b[0m\u001b[1;33m)\u001b[0m\u001b[1;33m\u001b[0m\u001b[1;33m\u001b[0m\u001b[0m\n\u001b[0;32m      5\u001b[0m \u001b[1;31m# Getting the cluster labels\u001b[0m\u001b[1;33m\u001b[0m\u001b[1;33m\u001b[0m\u001b[1;33m\u001b[0m\u001b[0m\n",
      "\u001b[1;31mNameError\u001b[0m: name 'KMeans' is not defined"
     ]
    }
   ],
   "source": [
    "# Number of clusters = 3\n",
    "kmeans = KMeans(n_clusters=3,n_init = 100,init='k-means++',random_state=0)\n",
    "# Fitting the input data\n",
    "kmeans = kmeans.fit(transformed_data)\n",
    "# Getting the cluster labels\n",
    "labels = kmeans.predict(transformed_data)\n",
    "# Centroid values\n",
    "centroids = kmeans.cluster_centers_"
   ]
  },
  {
   "cell_type": "code",
   "execution_count": 20,
   "metadata": {},
   "outputs": [],
   "source": [
    "kmeans_final = pd.DataFrame(transformed_data, columns= transformed_data.columns)\n",
    "kmeans_final[\"kmeans_grp\"] = labels\n",
    "df_data[\"kmeans_grp\"] = labels"
   ]
  },
  {
   "cell_type": "code",
   "execution_count": 18,
   "metadata": {},
   "outputs": [
    {
     "data": {
      "text/html": [
       "<div>\n",
       "<style scoped>\n",
       "    .dataframe tbody tr th:only-of-type {\n",
       "        vertical-align: middle;\n",
       "    }\n",
       "\n",
       "    .dataframe tbody tr th {\n",
       "        vertical-align: top;\n",
       "    }\n",
       "\n",
       "    .dataframe thead th {\n",
       "        text-align: right;\n",
       "    }\n",
       "</style>\n",
       "<table border=\"1\" class=\"dataframe\">\n",
       "  <thead>\n",
       "    <tr style=\"text-align: right;\">\n",
       "      <th></th>\n",
       "      <th>child_mort</th>\n",
       "      <th>exports</th>\n",
       "      <th>health</th>\n",
       "      <th>imports</th>\n",
       "      <th>income</th>\n",
       "      <th>inflation</th>\n",
       "      <th>life_expec</th>\n",
       "      <th>total_fer</th>\n",
       "      <th>gdpp</th>\n",
       "      <th>kmeans_grp</th>\n",
       "    </tr>\n",
       "  </thead>\n",
       "  <tbody>\n",
       "    <tr>\n",
       "      <th>0</th>\n",
       "      <td>1.266699</td>\n",
       "      <td>-1.658719</td>\n",
       "      <td>-1.239313</td>\n",
       "      <td>-1.246055</td>\n",
       "      <td>-1.368935</td>\n",
       "      <td>0.459416</td>\n",
       "      <td>-1.526455</td>\n",
       "      <td>1.544053</td>\n",
       "      <td>-1.462273</td>\n",
       "      <td>0</td>\n",
       "    </tr>\n",
       "    <tr>\n",
       "      <th>1</th>\n",
       "      <td>-0.220994</td>\n",
       "      <td>-0.238427</td>\n",
       "      <td>-0.042924</td>\n",
       "      <td>-0.055108</td>\n",
       "      <td>0.012538</td>\n",
       "      <td>-0.154659</td>\n",
       "      <td>0.621738</td>\n",
       "      <td>-0.992833</td>\n",
       "      <td>-0.121133</td>\n",
       "      <td>1</td>\n",
       "    </tr>\n",
       "    <tr>\n",
       "      <th>2</th>\n",
       "      <td>0.217834</td>\n",
       "      <td>-0.030785</td>\n",
       "      <td>-0.270052</td>\n",
       "      <td>-0.266188</td>\n",
       "      <td>0.232275</td>\n",
       "      <td>1.059790</td>\n",
       "      <td>0.652698</td>\n",
       "      <td>0.313175</td>\n",
       "      <td>-0.063195</td>\n",
       "      <td>1</td>\n",
       "    </tr>\n",
       "    <tr>\n",
       "      <th>3</th>\n",
       "      <td>1.506186</td>\n",
       "      <td>0.100544</td>\n",
       "      <td>-0.661987</td>\n",
       "      <td>-0.219429</td>\n",
       "      <td>-0.408251</td>\n",
       "      <td>1.512843</td>\n",
       "      <td>-1.239045</td>\n",
       "      <td>1.623128</td>\n",
       "      <td>-0.219666</td>\n",
       "      <td>0</td>\n",
       "    </tr>\n",
       "    <tr>\n",
       "      <th>4</th>\n",
       "      <td>-0.637380</td>\n",
       "      <td>0.602677</td>\n",
       "      <td>0.563269</td>\n",
       "      <td>0.758134</td>\n",
       "      <td>0.572583</td>\n",
       "      <td>-0.723442</td>\n",
       "      <td>0.699553</td>\n",
       "      <td>-0.368063</td>\n",
       "      <td>0.609228</td>\n",
       "      <td>2</td>\n",
       "    </tr>\n",
       "    <tr>\n",
       "      <th>5</th>\n",
       "      <td>-0.339697</td>\n",
       "      <td>0.036270</td>\n",
       "      <td>0.636466</td>\n",
       "      <td>-0.168627</td>\n",
       "      <td>0.553895</td>\n",
       "      <td>1.412022</td>\n",
       "      <td>0.545301</td>\n",
       "      <td>-0.120706</td>\n",
       "      <td>0.496207</td>\n",
       "      <td>1</td>\n",
       "    </tr>\n",
       "    <tr>\n",
       "      <th>6</th>\n",
       "      <td>-0.144877</td>\n",
       "      <td>-0.508145</td>\n",
       "      <td>-0.442152</td>\n",
       "      <td>-0.241864</td>\n",
       "      <td>-0.307448</td>\n",
       "      <td>0.275860</td>\n",
       "      <td>0.183248</td>\n",
       "      <td>-0.932506</td>\n",
       "      <td>-0.281188</td>\n",
       "      <td>1</td>\n",
       "    </tr>\n",
       "    <tr>\n",
       "      <th>7</th>\n",
       "      <td>-1.277117</td>\n",
       "      <td>0.950906</td>\n",
       "      <td>1.572599</td>\n",
       "      <td>1.032075</td>\n",
       "      <td>1.282892</td>\n",
       "      <td>-0.793127</td>\n",
       "      <td>1.594457</td>\n",
       "      <td>-0.604207</td>\n",
       "      <td>1.574088</td>\n",
       "      <td>2</td>\n",
       "    </tr>\n",
       "    <tr>\n",
       "      <th>8</th>\n",
       "      <td>-1.364807</td>\n",
       "      <td>1.451427</td>\n",
       "      <td>1.640826</td>\n",
       "      <td>1.531545</td>\n",
       "      <td>1.323552</td>\n",
       "      <td>-0.870154</td>\n",
       "      <td>1.319778</td>\n",
       "      <td>-1.341021</td>\n",
       "      <td>1.506685</td>\n",
       "      <td>2</td>\n",
       "    </tr>\n",
       "    <tr>\n",
       "      <th>9</th>\n",
       "      <td>0.537221</td>\n",
       "      <td>0.296020</td>\n",
       "      <td>0.109133</td>\n",
       "      <td>-0.353539</td>\n",
       "      <td>0.417398</td>\n",
       "      <td>0.870730</td>\n",
       "      <td>-0.353603</td>\n",
       "      <td>-0.616839</td>\n",
       "      <td>0.117089</td>\n",
       "      <td>1</td>\n",
       "    </tr>\n",
       "  </tbody>\n",
       "</table>\n",
       "</div>"
      ],
      "text/plain": [
       "   child_mort   exports    health   imports    income  inflation  life_expec  \\\n",
       "0    1.266699 -1.658719 -1.239313 -1.246055 -1.368935   0.459416   -1.526455   \n",
       "1   -0.220994 -0.238427 -0.042924 -0.055108  0.012538  -0.154659    0.621738   \n",
       "2    0.217834 -0.030785 -0.270052 -0.266188  0.232275   1.059790    0.652698   \n",
       "3    1.506186  0.100544 -0.661987 -0.219429 -0.408251   1.512843   -1.239045   \n",
       "4   -0.637380  0.602677  0.563269  0.758134  0.572583  -0.723442    0.699553   \n",
       "5   -0.339697  0.036270  0.636466 -0.168627  0.553895   1.412022    0.545301   \n",
       "6   -0.144877 -0.508145 -0.442152 -0.241864 -0.307448   0.275860    0.183248   \n",
       "7   -1.277117  0.950906  1.572599  1.032075  1.282892  -0.793127    1.594457   \n",
       "8   -1.364807  1.451427  1.640826  1.531545  1.323552  -0.870154    1.319778   \n",
       "9    0.537221  0.296020  0.109133 -0.353539  0.417398   0.870730   -0.353603   \n",
       "\n",
       "   total_fer      gdpp  kmeans_grp  \n",
       "0   1.544053 -1.462273           0  \n",
       "1  -0.992833 -0.121133           1  \n",
       "2   0.313175 -0.063195           1  \n",
       "3   1.623128 -0.219666           0  \n",
       "4  -0.368063  0.609228           2  \n",
       "5  -0.120706  0.496207           1  \n",
       "6  -0.932506 -0.281188           1  \n",
       "7  -0.604207  1.574088           2  \n",
       "8  -1.341021  1.506685           2  \n",
       "9  -0.616839  0.117089           1  "
      ]
     },
     "execution_count": 18,
     "metadata": {},
     "output_type": "execute_result"
    }
   ],
   "source": [
    "kmeans_final.head(10)"
   ]
  },
  {
   "cell_type": "markdown",
   "metadata": {},
   "source": [
    "### Hierarchical Clustering"
   ]
  },
  {
   "cell_type": "code",
   "execution_count": 21,
   "metadata": {},
   "outputs": [
    {
     "data": {
      "image/png": "[encoded data removed]",
      "text/plain": [
       "<Figure size 1296x432 with 1 Axes>"
      ]
     },
     "metadata": {
      "needs_background": "light"
     },
     "output_type": "display_data"
    }
   ],
   "source": [
    "# single linkage\n",
    "plt.figure(figsize=(18,6))\n",
    "single_link = linkage(transformed_data, method=\"single\", metric='euclidean')\n",
    "dendrogram(single_link)\n",
    "plt.show()"
   ]
  },
  {
   "cell_type": "code",
   "execution_count": 22,
   "metadata": {},
   "outputs": [
    {
     "data": {
      "image/png": "[encoded data removed]",
      "text/plain": [
       "<Figure size 1296x432 with 1 Axes>"
      ]
     },
     "metadata": {
      "needs_background": "light"
     },
     "output_type": "display_data"
    }
   ],
   "source": [
    "# complete linkage\n",
    "plt.figure(figsize=(18,6))\n",
    "complete_link = linkage(transformed_data, method=\"complete\", metric='euclidean')\n",
    "dendrogram(complete_link)\n",
    "plt.show()"
   ]
  },
  {
   "cell_type": "code",
   "execution_count": 23,
   "metadata": {},
   "outputs": [
    {
     "data": {
      "text/plain": [
       "array([0, 1, 1, 0, 1, 1, 1, 2, 2, 1, 1, 2, 0, 1, 1, 2, 1, 0, 1, 1, 1, 1,\n",
       "       1, 2, 1, 0, 0, 0, 0, 2, 1, 0, 0, 1, 1, 1, 0, 0, 0, 1, 0, 1, 2, 2,\n",
       "       2, 1, 1, 1, 1, 1, 0, 1, 1, 2, 2, 1, 0, 1, 2, 0, 2, 1, 1, 0, 0, 1,\n",
       "       0, 1, 2, 0, 1, 1, 1, 2, 2, 2, 1, 2, 1, 1, 0, 0, 2, 0, 0, 1, 1, 0,\n",
       "       0, 1, 1, 2, 1, 0, 0, 1, 1, 0, 2, 0, 1, 1, 1, 1, 1, 1, 0, 0, 1, 0,\n",
       "       2, 2, 0, 0, 2, 1, 0, 1, 1, 1, 1, 1, 2, 2, 1, 1, 0, 1, 1, 0, 1, 2,\n",
       "       0, 2, 1, 2, 0, 1, 2, 2, 1, 1, 0, 1, 2, 2, 0, 0, 1, 0, 0, 1, 1, 1,\n",
       "       1, 0, 1, 2, 2, 2, 1, 0, 1, 1, 1, 0, 0])"
      ]
     },
     "execution_count": 23,
     "metadata": {},
     "output_type": "execute_result"
    }
   ],
   "source": [
    "# 3 clusters\n",
    "heirarchical_labels = cut_tree(complete_link, n_clusters=3).reshape(-1, )\n",
    "heirarchical_labels"
   ]
  },
  {
   "cell_type": "code",
   "execution_count": 24,
   "metadata": {},
   "outputs": [],
   "source": [
    "heirarchical_final = pd.DataFrame(transformed_data, columns= transformed_data.columns)\n",
    "heirarchical_final[\"h_grp\"] = heirarchical_labels\n",
    "df_data[\"h_grp\"] = heirarchical_labels"
   ]
  },
  {
   "cell_type": "code",
   "execution_count": 1,
   "metadata": {},
   "outputs": [
    {
     "ename": "NameError",
     "evalue": "name 'px' is not defined",
     "output_type": "error",
     "traceback": [
      "\u001b[1;31m---------------------------------------------------------------------------\u001b[0m",
      "\u001b[1;31mNameError\u001b[0m                                 Traceback (most recent call last)",
      "\u001b[1;32m<ipython-input-1-2158becac943>\u001b[0m in \u001b[0;36m<module>\u001b[1;34m\u001b[0m\n\u001b[1;32m----> 1\u001b[1;33m \u001b[0mpx\u001b[0m\u001b[1;33m.\u001b[0m\u001b[0mscatter\u001b[0m\u001b[1;33m(\u001b[0m\u001b[0mtransformed_data\u001b[0m\u001b[1;33m,\u001b[0m \u001b[0mx\u001b[0m\u001b[1;33m=\u001b[0m\u001b[1;34m\"child_mort\"\u001b[0m\u001b[1;33m,\u001b[0m \u001b[0my\u001b[0m\u001b[1;33m=\u001b[0m\u001b[1;34m\"gdpp\"\u001b[0m\u001b[1;33m,\u001b[0m \u001b[0mcolor\u001b[0m\u001b[1;33m=\u001b[0m\u001b[1;34m\"kmeans_grp\"\u001b[0m\u001b[1;33m)\u001b[0m\u001b[1;33m\u001b[0m\u001b[1;33m\u001b[0m\u001b[0m\n\u001b[0m",
      "\u001b[1;31mNameError\u001b[0m: name 'px' is not defined"
     ]
    }
   ],
   "source": [
    "px.scatter(transformed_data, x=\"child_mort\", y=\"gdpp\", color=\"kmeans_grp\")"
   ]
  },
  {
   "cell_type": "code",
   "execution_count": 26,
   "metadata": {},
   "outputs": [
    {
     "data": {
      "application/vnd.plotly.v1+json": {
       "config": {
        "plotlyServerURL": "https://plot.ly"
       },
       "data": [
        {
         "hovertemplate": "gdpp=%{x}<br>income=%{y}<br>kmeans_grp=%{marker.color}<extra></extra>",
         "legendgroup": "",
         "marker": {
          "color": [
           0,
           1,
           1,
           0,
           2,
           1,
           1,
           2,
           2,
           1,
           2,
           2,
           0,
           2,
           1,
           2,
           1,
           0,
           1,
           1,
           1,
           1,
           1,
           2,
           1,
           0,
           0,
           0,
           0,
           2,
           1,
           0,
           0,
           1,
           1,
           1,
           0,
           0,
           0,
           1,
           0,
           2,
           2,
           2,
           2,
           1,
           1,
           1,
           1,
           1,
           0,
           2,
           1,
           2,
           2,
           1,
           0,
           1,
           2,
           0,
           2,
           1,
           1,
           0,
           0,
           1,
           0,
           2,
           2,
           0,
           1,
           1,
           1,
           2,
           2,
           2,
           1,
           2,
           1,
           1,
           0,
           0,
           2,
           0,
           0,
           2,
           2,
           0,
           0,
           1,
           2,
           2,
           1,
           0,
           0,
           1,
           1,
           0,
           2,
           0,
           1,
           1,
           1,
           1,
           1,
           1,
           0,
           0,
           1,
           0,
           2,
           2,
           0,
           0,
           2,
           1,
           0,
           1,
           1,
           1,
           1,
           2,
           2,
           2,
           1,
           1,
           0,
           1,
           1,
           0,
           1,
           2,
           0,
           2,
           2,
           2,
           0,
           1,
           2,
           2,
           1,
           1,
           0,
           1,
           2,
           2,
           0,
           0,
           1,
           0,
           0,
           1,
           1,
           1,
           1,
           0,
           1,
           2,
           2,
           2,
           1,
           0,
           1,
           1,
           1,
           0,
           0
          ],
          "coloraxis": "coloraxis",
          "symbol": "circle"
         },
         "mode": "markers",
         "name": "",
         "orientation": "v",
         "showlegend": false,
         "type": "scatter",
         "x": [
          -1.4622732135003025,
          -0.12113304693873794,
          -0.0631947166304581,
          -0.21966578196904454,
          0.6092283121714733,
          0.4962072454952141,
          -0.2811881371395191,
          1.574088152649089,
          1.506685259531152,
          0.11708941160821887,
          1.163235363670149,
          0.9619164906060111,
          -1.250675778300306,
          0.7901636028327658,
          0.13849352457187217,
          1.4702308728637206,
          -0.08144029968305558,
          -1.250675778300306,
          -0.5423879327533294,
          -0.6068563374362438,
          -0.04106741539394443,
          0.17305913984052845,
          0.5521381728723758,
          1.317546606409038,
          0.22274243403499558,
          -1.436091854725118,
          -2.04807728576639,
          -1.2263383768396148,
          -0.8837174112092429,
          1.5137419624911979,
          -0.2627356723531322,
          -1.6065951888245338,
          -1.1377154303531773,
          0.6464658442230028,
          -0.04836198672181039,
          0.16244853745432905,
          -1.241008998348804,
          -1.8006751001631922,
          -0.3892607654784875,
          0.3439187201281952,
          -0.9314422964160535,
          0.6768059377578995,
          1.2267273256129543,
          0.9322794116595878,
          1.648009051383069,
          0.07087815971379625,
          -0.03385169970178785,
          -0.4243809223026656,
          -0.3307989767335708,
          0.8345141743997323,
          -1.5544966063048304,
          0.7290747882870766,
          -0.19729343303480007,
          1.4966781475792503,
          1.4106786506278286,
          0.387286504306818,
          -1.4514388534602674,
          -0.3375502533004549,
          1.430067786605663,
          -0.8837174112092429,
          1.136532681478945,
          0.27261622895482784,
          -0.36762065606014466,
          -1.355884309382404,
          -1.4695945781723698,
          -0.319696263619658,
          -1.3415408599268173,
          0.6567335785458925,
          1.4316582834111578,
          -0.863551544365095,
          -0.30445604491081246,
          0.19174296820503448,
          -0.05722201648477529,
          1.5317458864487483,
          1.2223879357991143,
          1.3269120355599213,
          -0.0309871137964694,
          1.471728130505295,
          -0.19181551352809378,
          0.4112782918716629,
          -1.0873096912450515,
          -0.7974025457262189,
          1.3753229494793713,
          -1.150551238976649,
          -0.9769231995348507,
          0.5580724763998949,
          0.39563145567756713,
          -0.9595038618847848,
          -1.814889521333799,
          0.6037345336239437,
          0.598195060933631,
          2.0425029809376665,
          -0.05130228277899874,
          -1.6581881314588325,
          -1.5873119666595665,
          0.4112782918716629,
          0.24767503922042758,
          -1.2964628180366786,
          0.9746762389389729,
          -0.942526202173692,
          0.3274218535617521,
          -0.36056025872840836,
          -0.7372076664569682,
          -0.4116251131676279,
          0.206922707225882,
          -0.36762065606014466,
          -1.6485077894841593,
          -1.0728989473351749,
          0.03819101372164404,
          -1.4165383809479781,
          1.553254566349011,
          1.2866579615882452,
          -1.773118226041006,
          -0.4978135941912434,
          1.9236507583898192,
          0.9152253536834114,
          -1.0384950955678265,
          0.3340696689174331,
          -0.27911251239028534,
          0.015918974373017626,
          -0.5579317771448483,
          0.6307611527766445,
          1.0175010036114653,
          1.7759034456668923,
          0.3463584127341978,
          0.5216467908050841,
          -1.450245767481815,
          -0.23500816300646926,
          0.9152253536834114,
          -1.0648013186569236,
          0.0659524162955807,
          0.5278577396858289,
          -1.6813337595741213,
          1.502414952909201,
          0.8147204034172099,
          1.0436429937311693,
          -0.8940328175008003,
          0.26440572058260625,
          1.0055441175229678,
          1.2245611724753016,
          -0.37236937368325534,
          0.16030601111518084,
          -0.8019166785925751,
          0.35201654311314795,
          1.5766469691649672,
          1.8153709087456187,
          -1.268617072514449,
          -1.3021735037087934,
          0.023864845143878613,
          -0.20652434376239096,
          -1.5461936129629583,
          -0.21588462683528342,
          -0.11300346682188338,
          0.5216467908050841,
          -0.06620122663223765,
          -1.413146176075411,
          -0.3352922398318939,
          1.3118633153577344,
          1.382204062962517,
          1.5276342592804706,
          0.5926091285039566,
          -0.8488160688221833,
          -0.3352922398318939,
          0.6768059377578995,
          -0.8837174112092429,
          -0.8837174112092429,
          -0.8110373273313614
         ],
         "xaxis": "x",
         "y": [
          -1.368935096934954,
          0.01253819077198113,
          0.23227507658137417,
          -0.4082509314965139,
          0.5725827226611822,
          0.5538950488336453,
          -0.3074477710476082,
          1.2828915985514626,
          1.3235521080943395,
          0.41739784817302683,
          0.7343931047049667,
          1.2759602911766095,
          -1.0746093777535404,
          0.37862144943678716,
          0.42819565946962285,
          1.2759602911766095,
          -0.17701004424147704,
          -1.2833900877351672,
          -0.3414302284491186,
          -0.47626891401333804,
          -0.005164023051270053,
          0.25828729928926825,
          0.3322952111181761,
          1.9392173421323424,
          0.37862144943678716,
          -1.4506837115210347,
          -1.8673836326141555,
          -1.0512647776484731,
          -1.011974465052648,
          1.2666472024728626,
          -0.41764844981524546,
          -1.7697434707180204,
          -1.2420776146284562,
          0.5863681812119189,
          -0.02148014581382832,
          0.09016088922534114,
          -1.4603320849573882,
          -2.0118640689258473,
          -0.5086333481921104,
          0.23884563433557787,
          -1.0037983928841145,
          0.6178009855717725,
          1.0941928542786112,
          0.9268718713296276,
          1.3411347770453184,
          0.10538662247469578,
          -0.03721049601427671,
          0.0066752921685413035,
          -0.23874289182453573,
          1.0886623440327474,
          -1.455492584173589,
          0.726504230671293,
          -0.23325000472564175,
          1.245387097056577,
          1.1738010259871252,
          0.38425771837275424,
          -1.3476921824714845,
          -0.30388314889717305,
          1.2596080407871055,
          -0.9091973692158937,
          0.9397728663672638,
          0.1129069061916272,
          -0.30625796677879386,
          -1.575491493760114,
          -1.4701046364354347,
          -0.41629973622905325,
          -1.4178460988057977,
          0.7105365524795226,
          1.2212499617859425,
          -0.6343304057063874,
          -0.12214661658191157,
          0.49056434597707566,
          0.2189949446851405,
          1.3775600814883862,
          0.9682170825640471,
          1.1557626594269665,
          -0.1647516309885715,
          1.145313241524702,
          -0.026693592506679836,
          0.6178009855717725,
          -1.0628521858413478,
          -1.3189013745241107,
          1.868887537869078,
          -0.9771262639965204,
          -0.7124890153431157,
          0.5348432230805283,
          0.4335495425240777,
          -1.0925752444073422,
          -1.9235141200720574,
          0.9682170825640471,
          0.661033483425971,
          2.071345528559095,
          0.1277674986536046,
          -1.4701046364354347,
          -1.672009198944763,
          0.661033483425971,
          0.05893790712998525,
          -1.2643402761289313,
          0.9268718713296276,
          -0.8487138613332409,
          0.4119532050923741,
          -0.8442401805970247,
          -0.7259277401453466,
          -0.19466757524944872,
          0.3021560760745075,
          -0.3389590068891785,
          -1.7479772982717623,
          -0.763529330781548,
          -0.11924786323797558,
          -1.2204304983153604,
          1.3733388164038558,
          1.0490981071737708,
          -1.8264071103820427,
          -0.5146503756633873,
          1.6804191058295954,
          1.3691007786642257,
          -0.6572069890187027,
          0.38425771837275424,
          -0.23984554014734147,
          0.015039455697701765,
          -0.44925943780869815,
          0.6902095601631111,
          0.8905266773878163,
          2.395485142159459,
          0.5104929611399245,
          0.7422200666392714,
          -1.4900360935429815,
          -0.4777140445562379,
          1.371221902894695,
          -1.155564068462263,
          0.2189949446851405,
          0.6309707794886071,
          -1.558709835137907,
          1.826426186637527,
          0.8209064679359245,
          0.9397728663672638,
          -1.2989727843048202,
          0.17097917401569523,
          0.9928532325063486,
          1.0548437565608624,
          -0.10965186570916412,
          0.011702920841702586,
          -0.837574753457105,
          0.3143264699299677,
          1.316882797388959,
          1.5663780747536782,
          -1.1788465396287253,
          -1.1856266074526034,
          0.2710297994010462,
          -1.271904435247215,
          -1.5642619839834526,
          -0.5407024169950835,
          0.05096464680150727,
          0.5203062166137049,
          0.013372702258383518,
          -1.399697052255473,
          -0.18320252843188606,
          1.6028830724751755,
          1.1557626594269665,
          1.452790890723543,
          0.47534481052397404,
          -0.6643720799042259,
          -0.936192897746986,
          0.44416900314115515,
          -0.6205530302824532,
          -0.6222630367410245,
          -0.8577346214407305
         ],
         "yaxis": "y"
        }
       ],
       "layout": {
        "coloraxis": {
         "colorbar": {
          "title": {
           "text": "kmeans_grp"
          }
         },
         "colorscale": [
          [
           0,
           "#0d0887"
          ],
          [
           0.1111111111111111,
           "#46039f"
          ],
          [
           0.2222222222222222,
           "#7201a8"
          ],
          [
           0.3333333333333333,
           "#9c179e"
          ],
          [
           0.4444444444444444,
           "#bd3786"
          ],
          [
           0.5555555555555556,
           "#d8576b"
          ],
          [
           0.6666666666666666,
           "#ed7953"
          ],
          [
           0.7777777777777778,
           "#fb9f3a"
          ],
          [
           0.8888888888888888,
           "#fdca26"
          ],
          [
           1,
           "#f0f921"
          ]
         ]
        },
        "legend": {
         "tracegroupgap": 0
        },
        "margin": {
         "t": 60
        },
        "template": {
         "data": {
          "bar": [
           {
            "error_x": {
             "color": "#2a3f5f"
            },
            "error_y": {
             "color": "#2a3f5f"
            },
            "marker": {
             "line": {
              "color": "#E5ECF6",
              "width": 0.5
             }
            },
            "type": "bar"
           }
          ],
          "barpolar": [
           {
            "marker": {
             "line": {
              "color": "#E5ECF6",
              "width": 0.5
             }
            },
            "type": "barpolar"
           }
          ],
          "carpet": [
           {
            "aaxis": {
             "endlinecolor": "#2a3f5f",
             "gridcolor": "white",
             "linecolor": "white",
             "minorgridcolor": "white",
             "startlinecolor": "#2a3f5f"
            },
            "baxis": {
             "endlinecolor": "#2a3f5f",
             "gridcolor": "white",
             "linecolor": "white",
             "minorgridcolor": "white",
             "startlinecolor": "#2a3f5f"
            },
            "type": "carpet"
           }
          ],
          "choropleth": [
           {
            "colorbar": {
             "outlinewidth": 0,
             "ticks": ""
            },
            "type": "choropleth"
           }
          ],
          "contour": [
           {
            "colorbar": {
             "outlinewidth": 0,
             "ticks": ""
            },
            "colorscale": [
             [
              0,
              "#0d0887"
             ],
             [
              0.1111111111111111,
              "#46039f"
             ],
             [
              0.2222222222222222,
              "#7201a8"
             ],
             [
              0.3333333333333333,
              "#9c179e"
             ],
             [
              0.4444444444444444,
              "#bd3786"
             ],
             [
              0.5555555555555556,
              "#d8576b"
             ],
             [
              0.6666666666666666,
              "#ed7953"
             ],
             [
              0.7777777777777778,
              "#fb9f3a"
             ],
             [
              0.8888888888888888,
              "#fdca26"
             ],
             [
              1,
              "#f0f921"
             ]
            ],
            "type": "contour"
           }
          ],
          "contourcarpet": [
           {
            "colorbar": {
             "outlinewidth": 0,
             "ticks": ""
            },
            "type": "contourcarpet"
           }
          ],
          "heatmap": [
           {
            "colorbar": {
             "outlinewidth": 0,
             "ticks": ""
            },
            "colorscale": [
             [
              0,
              "#0d0887"
             ],
             [
              0.1111111111111111,
              "#46039f"
             ],
             [
              0.2222222222222222,
              "#7201a8"
             ],
             [
              0.3333333333333333,
              "#9c179e"
             ],
             [
              0.4444444444444444,
              "#bd3786"
             ],
             [
              0.5555555555555556,
              "#d8576b"
             ],
             [
              0.6666666666666666,
              "#ed7953"
             ],
             [
              0.7777777777777778,
              "#fb9f3a"
             ],
             [
              0.8888888888888888,
              "#fdca26"
             ],
             [
              1,
              "#f0f921"
             ]
            ],
            "type": "heatmap"
           }
          ],
          "heatmapgl": [
           {
            "colorbar": {
             "outlinewidth": 0,
             "ticks": ""
            },
            "colorscale": [
             [
              0,
              "#0d0887"
             ],
             [
              0.1111111111111111,
              "#46039f"
             ],
             [
              0.2222222222222222,
              "#7201a8"
             ],
             [
              0.3333333333333333,
              "#9c179e"
             ],
             [
              0.4444444444444444,
              "#bd3786"
             ],
             [
              0.5555555555555556,
              "#d8576b"
             ],
             [
              0.6666666666666666,
              "#ed7953"
             ],
             [
              0.7777777777777778,
              "#fb9f3a"
             ],
             [
              0.8888888888888888,
              "#fdca26"
             ],
             [
              1,
              "#f0f921"
             ]
            ],
            "type": "heatmapgl"
           }
          ],
          "histogram": [
           {
            "marker": {
             "colorbar": {
              "outlinewidth": 0,
              "ticks": ""
             }
            },
            "type": "histogram"
           }
          ],
          "histogram2d": [
           {
            "colorbar": {
             "outlinewidth": 0,
             "ticks": ""
            },
            "colorscale": [
             [
              0,
              "#0d0887"
             ],
             [
              0.1111111111111111,
              "#46039f"
             ],
             [
              0.2222222222222222,
              "#7201a8"
             ],
             [
              0.3333333333333333,
              "#9c179e"
             ],
             [
              0.4444444444444444,
              "#bd3786"
             ],
             [
              0.5555555555555556,
              "#d8576b"
             ],
             [
              0.6666666666666666,
              "#ed7953"
             ],
             [
              0.7777777777777778,
              "#fb9f3a"
             ],
             [
              0.8888888888888888,
              "#fdca26"
             ],
             [
              1,
              "#f0f921"
             ]
            ],
            "type": "histogram2d"
           }
          ],
          "histogram2dcontour": [
           {
            "colorbar": {
             "outlinewidth": 0,
             "ticks": ""
            },
            "colorscale": [
             [
              0,
              "#0d0887"
             ],
             [
              0.1111111111111111,
              "#46039f"
             ],
             [
              0.2222222222222222,
              "#7201a8"
             ],
             [
              0.3333333333333333,
              "#9c179e"
             ],
             [
              0.4444444444444444,
              "#bd3786"
             ],
             [
              0.5555555555555556,
              "#d8576b"
             ],
             [
              0.6666666666666666,
              "#ed7953"
             ],
             [
              0.7777777777777778,
              "#fb9f3a"
             ],
             [
              0.8888888888888888,
              "#fdca26"
             ],
             [
              1,
              "#f0f921"
             ]
            ],
            "type": "histogram2dcontour"
           }
          ],
          "mesh3d": [
           {
            "colorbar": {
             "outlinewidth": 0,
             "ticks": ""
            },
            "type": "mesh3d"
           }
          ],
          "parcoords": [
           {
            "line": {
             "colorbar": {
              "outlinewidth": 0,
              "ticks": ""
             }
            },
            "type": "parcoords"
           }
          ],
          "pie": [
           {
            "automargin": true,
            "type": "pie"
           }
          ],
          "scatter": [
           {
            "marker": {
             "colorbar": {
              "outlinewidth": 0,
              "ticks": ""
             }
            },
            "type": "scatter"
           }
          ],
          "scatter3d": [
           {
            "line": {
             "colorbar": {
              "outlinewidth": 0,
              "ticks": ""
             }
            },
            "marker": {
             "colorbar": {
              "outlinewidth": 0,
              "ticks": ""
             }
            },
            "type": "scatter3d"
           }
          ],
          "scattercarpet": [
           {
            "marker": {
             "colorbar": {
              "outlinewidth": 0,
              "ticks": ""
             }
            },
            "type": "scattercarpet"
           }
          ],
          "scattergeo": [
           {
            "marker": {
             "colorbar": {
              "outlinewidth": 0,
              "ticks": ""
             }
            },
            "type": "scattergeo"
           }
          ],
          "scattergl": [
           {
            "marker": {
             "colorbar": {
              "outlinewidth": 0,
              "ticks": ""
             }
            },
            "type": "scattergl"
           }
          ],
          "scattermapbox": [
           {
            "marker": {
             "colorbar": {
              "outlinewidth": 0,
              "ticks": ""
             }
            },
            "type": "scattermapbox"
           }
          ],
          "scatterpolar": [
           {
            "marker": {
             "colorbar": {
              "outlinewidth": 0,
              "ticks": ""
             }
            },
            "type": "scatterpolar"
           }
          ],
          "scatterpolargl": [
           {
            "marker": {
             "colorbar": {
              "outlinewidth": 0,
              "ticks": ""
             }
            },
            "type": "scatterpolargl"
           }
          ],
          "scatterternary": [
           {
            "marker": {
             "colorbar": {
              "outlinewidth": 0,
              "ticks": ""
             }
            },
            "type": "scatterternary"
           }
          ],
          "surface": [
           {
            "colorbar": {
             "outlinewidth": 0,
             "ticks": ""
            },
            "colorscale": [
             [
              0,
              "#0d0887"
             ],
             [
              0.1111111111111111,
              "#46039f"
             ],
             [
              0.2222222222222222,
              "#7201a8"
             ],
             [
              0.3333333333333333,
              "#9c179e"
             ],
             [
              0.4444444444444444,
              "#bd3786"
             ],
             [
              0.5555555555555556,
              "#d8576b"
             ],
             [
              0.6666666666666666,
              "#ed7953"
             ],
             [
              0.7777777777777778,
              "#fb9f3a"
             ],
             [
              0.8888888888888888,
              "#fdca26"
             ],
             [
              1,
              "#f0f921"
             ]
            ],
            "type": "surface"
           }
          ],
          "table": [
           {
            "cells": {
             "fill": {
              "color": "#EBF0F8"
             },
             "line": {
              "color": "white"
             }
            },
            "header": {
             "fill": {
              "color": "#C8D4E3"
             },
             "line": {
              "color": "white"
             }
            },
            "type": "table"
           }
          ]
         },
         "layout": {
          "annotationdefaults": {
           "arrowcolor": "#2a3f5f",
           "arrowhead": 0,
           "arrowwidth": 1
          },
          "coloraxis": {
           "colorbar": {
            "outlinewidth": 0,
            "ticks": ""
           }
          },
          "colorscale": {
           "diverging": [
            [
             0,
             "#8e0152"
            ],
            [
             0.1,
             "#c51b7d"
            ],
            [
             0.2,
             "#de77ae"
            ],
            [
             0.3,
             "#f1b6da"
            ],
            [
             0.4,
             "#fde0ef"
            ],
            [
             0.5,
             "#f7f7f7"
            ],
            [
             0.6,
             "#e6f5d0"
            ],
            [
             0.7,
             "#b8e186"
            ],
            [
             0.8,
             "#7fbc41"
            ],
            [
             0.9,
             "#4d9221"
            ],
            [
             1,
             "#276419"
            ]
           ],
           "sequential": [
            [
             0,
             "#0d0887"
            ],
            [
             0.1111111111111111,
             "#46039f"
            ],
            [
             0.2222222222222222,
             "#7201a8"
            ],
            [
             0.3333333333333333,
             "#9c179e"
            ],
            [
             0.4444444444444444,
             "#bd3786"
            ],
            [
             0.5555555555555556,
             "#d8576b"
            ],
            [
             0.6666666666666666,
             "#ed7953"
            ],
            [
             0.7777777777777778,
             "#fb9f3a"
            ],
            [
             0.8888888888888888,
             "#fdca26"
            ],
            [
             1,
             "#f0f921"
            ]
           ],
           "sequentialminus": [
            [
             0,
             "#0d0887"
            ],
            [
             0.1111111111111111,
             "#46039f"
            ],
            [
             0.2222222222222222,
             "#7201a8"
            ],
            [
             0.3333333333333333,
             "#9c179e"
            ],
            [
             0.4444444444444444,
             "#bd3786"
            ],
            [
             0.5555555555555556,
             "#d8576b"
            ],
            [
             0.6666666666666666,
             "#ed7953"
            ],
            [
             0.7777777777777778,
             "#fb9f3a"
            ],
            [
             0.8888888888888888,
             "#fdca26"
            ],
            [
             1,
             "#f0f921"
            ]
           ]
          },
          "colorway": [
           "#636efa",
           "#EF553B",
           "#00cc96",
           "#ab63fa",
           "#FFA15A",
           "#19d3f3",
           "#FF6692",
           "#B6E880",
           "#FF97FF",
           "#FECB52"
          ],
          "font": {
           "color": "#2a3f5f"
          },
          "geo": {
           "bgcolor": "white",
           "lakecolor": "white",
           "landcolor": "#E5ECF6",
           "showlakes": true,
           "showland": true,
           "subunitcolor": "white"
          },
          "hoverlabel": {
           "align": "left"
          },
          "hovermode": "closest",
          "mapbox": {
           "style": "light"
          },
          "paper_bgcolor": "white",
          "plot_bgcolor": "#E5ECF6",
          "polar": {
           "angularaxis": {
            "gridcolor": "white",
            "linecolor": "white",
            "ticks": ""
           },
           "bgcolor": "#E5ECF6",
           "radialaxis": {
            "gridcolor": "white",
            "linecolor": "white",
            "ticks": ""
           }
          },
          "scene": {
           "xaxis": {
            "backgroundcolor": "#E5ECF6",
            "gridcolor": "white",
            "gridwidth": 2,
            "linecolor": "white",
            "showbackground": true,
            "ticks": "",
            "zerolinecolor": "white"
           },
           "yaxis": {
            "backgroundcolor": "#E5ECF6",
            "gridcolor": "white",
            "gridwidth": 2,
            "linecolor": "white",
            "showbackground": true,
            "ticks": "",
            "zerolinecolor": "white"
           },
           "zaxis": {
            "backgroundcolor": "#E5ECF6",
            "gridcolor": "white",
            "gridwidth": 2,
            "linecolor": "white",
            "showbackground": true,
            "ticks": "",
            "zerolinecolor": "white"
           }
          },
          "shapedefaults": {
           "line": {
            "color": "#2a3f5f"
           }
          },
          "ternary": {
           "aaxis": {
            "gridcolor": "white",
            "linecolor": "white",
            "ticks": ""
           },
           "baxis": {
            "gridcolor": "white",
            "linecolor": "white",
            "ticks": ""
           },
           "bgcolor": "#E5ECF6",
           "caxis": {
            "gridcolor": "white",
            "linecolor": "white",
            "ticks": ""
           }
          },
          "title": {
           "x": 0.05
          },
          "xaxis": {
           "automargin": true,
           "gridcolor": "white",
           "linecolor": "white",
           "ticks": "",
           "title": {
            "standoff": 15
           },
           "zerolinecolor": "white",
           "zerolinewidth": 2
          },
          "yaxis": {
           "automargin": true,
           "gridcolor": "white",
           "linecolor": "white",
           "ticks": "",
           "title": {
            "standoff": 15
           },
           "zerolinecolor": "white",
           "zerolinewidth": 2
          }
         }
        },
        "xaxis": {
         "anchor": "y",
         "domain": [
          0,
          1
         ],
         "title": {
          "text": "gdpp"
         }
        },
        "yaxis": {
         "anchor": "x",
         "domain": [
          0,
          1
         ],
         "title": {
          "text": "income"
         }
        }
       }
      },
      "text/html": [
       "<div>                            <div id=\"f2f460a5-4370-4e17-a662-ec5505ae88b8\" class=\"plotly-graph-div\" style=\"height:525px; width:100%;\"></div>            <script type=\"text/javascript\">                require([\"plotly\"], function(Plotly) {                    window.PLOTLYENV=window.PLOTLYENV || {};                                    if (document.getElementById(\"f2f460a5-4370-4e17-a662-ec5505ae88b8\")) {                    Plotly.newPlot(                        \"f2f460a5-4370-4e17-a662-ec5505ae88b8\",                        [{\"hovertemplate\": \"gdpp=%{x}<br>income=%{y}<br>kmeans_grp=%{marker.color}<extra></extra>\", \"legendgroup\": \"\", \"marker\": {\"color\": [0, 1, 1, 0, 2, 1, 1, 2, 2, 1, 2, 2, 0, 2, 1, 2, 1, 0, 1, 1, 1, 1, 1, 2, 1, 0, 0, 0, 0, 2, 1, 0, 0, 1, 1, 1, 0, 0, 0, 1, 0, 2, 2, 2, 2, 1, 1, 1, 1, 1, 0, 2, 1, 2, 2, 1, 0, 1, 2, 0, 2, 1, 1, 0, 0, 1, 0, 2, 2, 0, 1, 1, 1, 2, 2, 2, 1, 2, 1, 1, 0, 0, 2, 0, 0, 2, 2, 0, 0, 1, 2, 2, 1, 0, 0, 1, 1, 0, 2, 0, 1, 1, 1, 1, 1, 1, 0, 0, 1, 0, 2, 2, 0, 0, 2, 1, 0, 1, 1, 1, 1, 2, 2, 2, 1, 1, 0, 1, 1, 0, 1, 2, 0, 2, 2, 2, 0, 1, 2, 2, 1, 1, 0, 1, 2, 2, 0, 0, 1, 0, 0, 1, 1, 1, 1, 0, 1, 2, 2, 2, 1, 0, 1, 1, 1, 0, 0], \"coloraxis\": \"coloraxis\", \"symbol\": \"circle\"}, \"mode\": \"markers\", \"name\": \"\", \"orientation\": \"v\", \"showlegend\": false, \"type\": \"scatter\", \"x\": [-1.4622732135003025, -0.12113304693873794, -0.0631947166304581, -0.21966578196904454, 0.6092283121714733, 0.4962072454952141, -0.2811881371395191, 1.574088152649089, 1.506685259531152, 0.11708941160821887, 1.163235363670149, 0.9619164906060111, -1.250675778300306, 0.7901636028327658, 0.13849352457187217, 1.4702308728637206, -0.08144029968305558, -1.250675778300306, -0.5423879327533294, -0.6068563374362438, -0.04106741539394443, 0.17305913984052845, 0.5521381728723758, 1.317546606409038, 0.22274243403499558, -1.436091854725118, -2.04807728576639, -1.2263383768396148, -0.8837174112092429, 1.5137419624911979, -0.2627356723531322, -1.6065951888245338, -1.1377154303531773, 0.6464658442230028, -0.04836198672181039, 0.16244853745432905, -1.241008998348804, -1.8006751001631922, -0.3892607654784875, 0.3439187201281952, -0.9314422964160535, 0.6768059377578995, 1.2267273256129543, 0.9322794116595878, 1.648009051383069, 0.07087815971379625, -0.03385169970178785, -0.4243809223026656, -0.3307989767335708, 0.8345141743997323, -1.5544966063048304, 0.7290747882870766, -0.19729343303480007, 1.4966781475792503, 1.4106786506278286, 0.387286504306818, -1.4514388534602674, -0.3375502533004549, 1.430067786605663, -0.8837174112092429, 1.136532681478945, 0.27261622895482784, -0.36762065606014466, -1.355884309382404, -1.4695945781723698, -0.319696263619658, -1.3415408599268173, 0.6567335785458925, 1.4316582834111578, -0.863551544365095, -0.30445604491081246, 0.19174296820503448, -0.05722201648477529, 1.5317458864487483, 1.2223879357991143, 1.3269120355599213, -0.0309871137964694, 1.471728130505295, -0.19181551352809378, 0.4112782918716629, -1.0873096912450515, -0.7974025457262189, 1.3753229494793713, -1.150551238976649, -0.9769231995348507, 0.5580724763998949, 0.39563145567756713, -0.9595038618847848, -1.814889521333799, 0.6037345336239437, 0.598195060933631, 2.0425029809376665, -0.05130228277899874, -1.6581881314588325, -1.5873119666595665, 0.4112782918716629, 0.24767503922042758, -1.2964628180366786, 0.9746762389389729, -0.942526202173692, 0.3274218535617521, -0.36056025872840836, -0.7372076664569682, -0.4116251131676279, 0.206922707225882, -0.36762065606014466, -1.6485077894841593, -1.0728989473351749, 0.03819101372164404, -1.4165383809479781, 1.553254566349011, 1.2866579615882452, -1.773118226041006, -0.4978135941912434, 1.9236507583898192, 0.9152253536834114, -1.0384950955678265, 0.3340696689174331, -0.27911251239028534, 0.015918974373017626, -0.5579317771448483, 0.6307611527766445, 1.0175010036114653, 1.7759034456668923, 0.3463584127341978, 0.5216467908050841, -1.450245767481815, -0.23500816300646926, 0.9152253536834114, -1.0648013186569236, 0.0659524162955807, 0.5278577396858289, -1.6813337595741213, 1.502414952909201, 0.8147204034172099, 1.0436429937311693, -0.8940328175008003, 0.26440572058260625, 1.0055441175229678, 1.2245611724753016, -0.37236937368325534, 0.16030601111518084, -0.8019166785925751, 0.35201654311314795, 1.5766469691649672, 1.8153709087456187, -1.268617072514449, -1.3021735037087934, 0.023864845143878613, -0.20652434376239096, -1.5461936129629583, -0.21588462683528342, -0.11300346682188338, 0.5216467908050841, -0.06620122663223765, -1.413146176075411, -0.3352922398318939, 1.3118633153577344, 1.382204062962517, 1.5276342592804706, 0.5926091285039566, -0.8488160688221833, -0.3352922398318939, 0.6768059377578995, -0.8837174112092429, -0.8837174112092429, -0.8110373273313614], \"xaxis\": \"x\", \"y\": [-1.368935096934954, 0.01253819077198113, 0.23227507658137417, -0.4082509314965139, 0.5725827226611822, 0.5538950488336453, -0.3074477710476082, 1.2828915985514626, 1.3235521080943395, 0.41739784817302683, 0.7343931047049667, 1.2759602911766095, -1.0746093777535404, 0.37862144943678716, 0.42819565946962285, 1.2759602911766095, -0.17701004424147704, -1.2833900877351672, -0.3414302284491186, -0.47626891401333804, -0.005164023051270053, 0.25828729928926825, 0.3322952111181761, 1.9392173421323424, 0.37862144943678716, -1.4506837115210347, -1.8673836326141555, -1.0512647776484731, -1.011974465052648, 1.2666472024728626, -0.41764844981524546, -1.7697434707180204, -1.2420776146284562, 0.5863681812119189, -0.02148014581382832, 0.09016088922534114, -1.4603320849573882, -2.0118640689258473, -0.5086333481921104, 0.23884563433557787, -1.0037983928841145, 0.6178009855717725, 1.0941928542786112, 0.9268718713296276, 1.3411347770453184, 0.10538662247469578, -0.03721049601427671, 0.0066752921685413035, -0.23874289182453573, 1.0886623440327474, -1.455492584173589, 0.726504230671293, -0.23325000472564175, 1.245387097056577, 1.1738010259871252, 0.38425771837275424, -1.3476921824714845, -0.30388314889717305, 1.2596080407871055, -0.9091973692158937, 0.9397728663672638, 0.1129069061916272, -0.30625796677879386, -1.575491493760114, -1.4701046364354347, -0.41629973622905325, -1.4178460988057977, 0.7105365524795226, 1.2212499617859425, -0.6343304057063874, -0.12214661658191157, 0.49056434597707566, 0.2189949446851405, 1.3775600814883862, 0.9682170825640471, 1.1557626594269665, -0.1647516309885715, 1.145313241524702, -0.026693592506679836, 0.6178009855717725, -1.0628521858413478, -1.3189013745241107, 1.868887537869078, -0.9771262639965204, -0.7124890153431157, 0.5348432230805283, 0.4335495425240777, -1.0925752444073422, -1.9235141200720574, 0.9682170825640471, 0.661033483425971, 2.071345528559095, 0.1277674986536046, -1.4701046364354347, -1.672009198944763, 0.661033483425971, 0.05893790712998525, -1.2643402761289313, 0.9268718713296276, -0.8487138613332409, 0.4119532050923741, -0.8442401805970247, -0.7259277401453466, -0.19466757524944872, 0.3021560760745075, -0.3389590068891785, -1.7479772982717623, -0.763529330781548, -0.11924786323797558, -1.2204304983153604, 1.3733388164038558, 1.0490981071737708, -1.8264071103820427, -0.5146503756633873, 1.6804191058295954, 1.3691007786642257, -0.6572069890187027, 0.38425771837275424, -0.23984554014734147, 0.015039455697701765, -0.44925943780869815, 0.6902095601631111, 0.8905266773878163, 2.395485142159459, 0.5104929611399245, 0.7422200666392714, -1.4900360935429815, -0.4777140445562379, 1.371221902894695, -1.155564068462263, 0.2189949446851405, 0.6309707794886071, -1.558709835137907, 1.826426186637527, 0.8209064679359245, 0.9397728663672638, -1.2989727843048202, 0.17097917401569523, 0.9928532325063486, 1.0548437565608624, -0.10965186570916412, 0.011702920841702586, -0.837574753457105, 0.3143264699299677, 1.316882797388959, 1.5663780747536782, -1.1788465396287253, -1.1856266074526034, 0.2710297994010462, -1.271904435247215, -1.5642619839834526, -0.5407024169950835, 0.05096464680150727, 0.5203062166137049, 0.013372702258383518, -1.399697052255473, -0.18320252843188606, 1.6028830724751755, 1.1557626594269665, 1.452790890723543, 0.47534481052397404, -0.6643720799042259, -0.936192897746986, 0.44416900314115515, -0.6205530302824532, -0.6222630367410245, -0.8577346214407305], \"yaxis\": \"y\"}],                        {\"coloraxis\": {\"colorbar\": {\"title\": {\"text\": \"kmeans_grp\"}}, \"colorscale\": [[0.0, \"#0d0887\"], [0.1111111111111111, \"#46039f\"], [0.2222222222222222, \"#7201a8\"], [0.3333333333333333, \"#9c179e\"], [0.4444444444444444, \"#bd3786\"], [0.5555555555555556, \"#d8576b\"], [0.6666666666666666, \"#ed7953\"], [0.7777777777777778, \"#fb9f3a\"], [0.8888888888888888, \"#fdca26\"], [1.0, \"#f0f921\"]]}, \"legend\": {\"tracegroupgap\": 0}, \"margin\": {\"t\": 60}, \"template\": {\"data\": {\"bar\": [{\"error_x\": {\"color\": \"#2a3f5f\"}, \"error_y\": {\"color\": \"#2a3f5f\"}, \"marker\": {\"line\": {\"color\": \"#E5ECF6\", \"width\": 0.5}}, \"type\": \"bar\"}], \"barpolar\": [{\"marker\": {\"line\": {\"color\": \"#E5ECF6\", \"width\": 0.5}}, \"type\": \"barpolar\"}], \"carpet\": [{\"aaxis\": {\"endlinecolor\": \"#2a3f5f\", \"gridcolor\": \"white\", \"linecolor\": \"white\", \"minorgridcolor\": \"white\", \"startlinecolor\": \"#2a3f5f\"}, \"baxis\": {\"endlinecolor\": \"#2a3f5f\", \"gridcolor\": \"white\", \"linecolor\": \"white\", \"minorgridcolor\": \"white\", \"startlinecolor\": \"#2a3f5f\"}, \"type\": \"carpet\"}], \"choropleth\": [{\"colorbar\": {\"outlinewidth\": 0, \"ticks\": \"\"}, \"type\": \"choropleth\"}], \"contour\": [{\"colorbar\": {\"outlinewidth\": 0, \"ticks\": \"\"}, \"colorscale\": [[0.0, \"#0d0887\"], [0.1111111111111111, \"#46039f\"], [0.2222222222222222, \"#7201a8\"], [0.3333333333333333, \"#9c179e\"], [0.4444444444444444, \"#bd3786\"], [0.5555555555555556, \"#d8576b\"], [0.6666666666666666, \"#ed7953\"], [0.7777777777777778, \"#fb9f3a\"], [0.8888888888888888, \"#fdca26\"], [1.0, \"#f0f921\"]], \"type\": \"contour\"}], \"contourcarpet\": [{\"colorbar\": {\"outlinewidth\": 0, \"ticks\": \"\"}, \"type\": \"contourcarpet\"}], \"heatmap\": [{\"colorbar\": {\"outlinewidth\": 0, \"ticks\": \"\"}, \"colorscale\": [[0.0, \"#0d0887\"], [0.1111111111111111, \"#46039f\"], [0.2222222222222222, \"#7201a8\"], [0.3333333333333333, \"#9c179e\"], [0.4444444444444444, \"#bd3786\"], [0.5555555555555556, \"#d8576b\"], [0.6666666666666666, \"#ed7953\"], [0.7777777777777778, \"#fb9f3a\"], [0.8888888888888888, \"#fdca26\"], [1.0, \"#f0f921\"]], \"type\": \"heatmap\"}], \"heatmapgl\": [{\"colorbar\": {\"outlinewidth\": 0, \"ticks\": \"\"}, \"colorscale\": [[0.0, \"#0d0887\"], [0.1111111111111111, \"#46039f\"], [0.2222222222222222, \"#7201a8\"], [0.3333333333333333, \"#9c179e\"], [0.4444444444444444, \"#bd3786\"], [0.5555555555555556, \"#d8576b\"], [0.6666666666666666, \"#ed7953\"], [0.7777777777777778, \"#fb9f3a\"], [0.8888888888888888, \"#fdca26\"], [1.0, \"#f0f921\"]], \"type\": \"heatmapgl\"}], \"histogram\": [{\"marker\": {\"colorbar\": {\"outlinewidth\": 0, \"ticks\": \"\"}}, \"type\": \"histogram\"}], \"histogram2d\": [{\"colorbar\": {\"outlinewidth\": 0, \"ticks\": \"\"}, \"colorscale\": [[0.0, \"#0d0887\"], [0.1111111111111111, \"#46039f\"], [0.2222222222222222, \"#7201a8\"], [0.3333333333333333, \"#9c179e\"], [0.4444444444444444, \"#bd3786\"], [0.5555555555555556, \"#d8576b\"], [0.6666666666666666, \"#ed7953\"], [0.7777777777777778, \"#fb9f3a\"], [0.8888888888888888, \"#fdca26\"], [1.0, \"#f0f921\"]], \"type\": \"histogram2d\"}], \"histogram2dcontour\": [{\"colorbar\": {\"outlinewidth\": 0, \"ticks\": \"\"}, \"colorscale\": [[0.0, \"#0d0887\"], [0.1111111111111111, \"#46039f\"], [0.2222222222222222, \"#7201a8\"], [0.3333333333333333, \"#9c179e\"], [0.4444444444444444, \"#bd3786\"], [0.5555555555555556, \"#d8576b\"], [0.6666666666666666, \"#ed7953\"], [0.7777777777777778, \"#fb9f3a\"], [0.8888888888888888, \"#fdca26\"], [1.0, \"#f0f921\"]], \"type\": \"histogram2dcontour\"}], \"mesh3d\": [{\"colorbar\": {\"outlinewidth\": 0, \"ticks\": \"\"}, \"type\": \"mesh3d\"}], \"parcoords\": [{\"line\": {\"colorbar\": {\"outlinewidth\": 0, \"ticks\": \"\"}}, \"type\": \"parcoords\"}], \"pie\": [{\"automargin\": true, \"type\": \"pie\"}], \"scatter\": [{\"marker\": {\"colorbar\": {\"outlinewidth\": 0, \"ticks\": \"\"}}, \"type\": \"scatter\"}], \"scatter3d\": [{\"line\": {\"colorbar\": {\"outlinewidth\": 0, \"ticks\": \"\"}}, \"marker\": {\"colorbar\": {\"outlinewidth\": 0, \"ticks\": \"\"}}, \"type\": \"scatter3d\"}], \"scattercarpet\": [{\"marker\": {\"colorbar\": {\"outlinewidth\": 0, \"ticks\": \"\"}}, \"type\": \"scattercarpet\"}], \"scattergeo\": [{\"marker\": {\"colorbar\": {\"outlinewidth\": 0, \"ticks\": \"\"}}, \"type\": \"scattergeo\"}], \"scattergl\": [{\"marker\": {\"colorbar\": {\"outlinewidth\": 0, \"ticks\": \"\"}}, \"type\": \"scattergl\"}], \"scattermapbox\": [{\"marker\": {\"colorbar\": {\"outlinewidth\": 0, \"ticks\": \"\"}}, \"type\": \"scattermapbox\"}], \"scatterpolar\": [{\"marker\": {\"colorbar\": {\"outlinewidth\": 0, \"ticks\": \"\"}}, \"type\": \"scatterpolar\"}], \"scatterpolargl\": [{\"marker\": {\"colorbar\": {\"outlinewidth\": 0, \"ticks\": \"\"}}, \"type\": \"scatterpolargl\"}], \"scatterternary\": [{\"marker\": {\"colorbar\": {\"outlinewidth\": 0, \"ticks\": \"\"}}, \"type\": \"scatterternary\"}], \"surface\": [{\"colorbar\": {\"outlinewidth\": 0, \"ticks\": \"\"}, \"colorscale\": [[0.0, \"#0d0887\"], [0.1111111111111111, \"#46039f\"], [0.2222222222222222, \"#7201a8\"], [0.3333333333333333, \"#9c179e\"], [0.4444444444444444, \"#bd3786\"], [0.5555555555555556, \"#d8576b\"], [0.6666666666666666, \"#ed7953\"], [0.7777777777777778, \"#fb9f3a\"], [0.8888888888888888, \"#fdca26\"], [1.0, \"#f0f921\"]], \"type\": \"surface\"}], \"table\": [{\"cells\": {\"fill\": {\"color\": \"#EBF0F8\"}, \"line\": {\"color\": \"white\"}}, \"header\": {\"fill\": {\"color\": \"#C8D4E3\"}, \"line\": {\"color\": \"white\"}}, \"type\": \"table\"}]}, \"layout\": {\"annotationdefaults\": {\"arrowcolor\": \"#2a3f5f\", \"arrowhead\": 0, \"arrowwidth\": 1}, \"coloraxis\": {\"colorbar\": {\"outlinewidth\": 0, \"ticks\": \"\"}}, \"colorscale\": {\"diverging\": [[0, \"#8e0152\"], [0.1, \"#c51b7d\"], [0.2, \"#de77ae\"], [0.3, \"#f1b6da\"], [0.4, \"#fde0ef\"], [0.5, \"#f7f7f7\"], [0.6, \"#e6f5d0\"], [0.7, \"#b8e186\"], [0.8, \"#7fbc41\"], [0.9, \"#4d9221\"], [1, \"#276419\"]], \"sequential\": [[0.0, \"#0d0887\"], [0.1111111111111111, \"#46039f\"], [0.2222222222222222, \"#7201a8\"], [0.3333333333333333, \"#9c179e\"], [0.4444444444444444, \"#bd3786\"], [0.5555555555555556, \"#d8576b\"], [0.6666666666666666, \"#ed7953\"], [0.7777777777777778, \"#fb9f3a\"], [0.8888888888888888, \"#fdca26\"], [1.0, \"#f0f921\"]], \"sequentialminus\": [[0.0, \"#0d0887\"], [0.1111111111111111, \"#46039f\"], [0.2222222222222222, \"#7201a8\"], [0.3333333333333333, \"#9c179e\"], [0.4444444444444444, \"#bd3786\"], [0.5555555555555556, \"#d8576b\"], [0.6666666666666666, \"#ed7953\"], [0.7777777777777778, \"#fb9f3a\"], [0.8888888888888888, \"#fdca26\"], [1.0, \"#f0f921\"]]}, \"colorway\": [\"#636efa\", \"#EF553B\", \"#00cc96\", \"#ab63fa\", \"#FFA15A\", \"#19d3f3\", \"#FF6692\", \"#B6E880\", \"#FF97FF\", \"#FECB52\"], \"font\": {\"color\": \"#2a3f5f\"}, \"geo\": {\"bgcolor\": \"white\", \"lakecolor\": \"white\", \"landcolor\": \"#E5ECF6\", \"showlakes\": true, \"showland\": true, \"subunitcolor\": \"white\"}, \"hoverlabel\": {\"align\": \"left\"}, \"hovermode\": \"closest\", \"mapbox\": {\"style\": \"light\"}, \"paper_bgcolor\": \"white\", \"plot_bgcolor\": \"#E5ECF6\", \"polar\": {\"angularaxis\": {\"gridcolor\": \"white\", \"linecolor\": \"white\", \"ticks\": \"\"}, \"bgcolor\": \"#E5ECF6\", \"radialaxis\": {\"gridcolor\": \"white\", \"linecolor\": \"white\", \"ticks\": \"\"}}, \"scene\": {\"xaxis\": {\"backgroundcolor\": \"#E5ECF6\", \"gridcolor\": \"white\", \"gridwidth\": 2, \"linecolor\": \"white\", \"showbackground\": true, \"ticks\": \"\", \"zerolinecolor\": \"white\"}, \"yaxis\": {\"backgroundcolor\": \"#E5ECF6\", \"gridcolor\": \"white\", \"gridwidth\": 2, \"linecolor\": \"white\", \"showbackground\": true, \"ticks\": \"\", \"zerolinecolor\": \"white\"}, \"zaxis\": {\"backgroundcolor\": \"#E5ECF6\", \"gridcolor\": \"white\", \"gridwidth\": 2, \"linecolor\": \"white\", \"showbackground\": true, \"ticks\": \"\", \"zerolinecolor\": \"white\"}}, \"shapedefaults\": {\"line\": {\"color\": \"#2a3f5f\"}}, \"ternary\": {\"aaxis\": {\"gridcolor\": \"white\", \"linecolor\": \"white\", \"ticks\": \"\"}, \"baxis\": {\"gridcolor\": \"white\", \"linecolor\": \"white\", \"ticks\": \"\"}, \"bgcolor\": \"#E5ECF6\", \"caxis\": {\"gridcolor\": \"white\", \"linecolor\": \"white\", \"ticks\": \"\"}}, \"title\": {\"x\": 0.05}, \"xaxis\": {\"automargin\": true, \"gridcolor\": \"white\", \"linecolor\": \"white\", \"ticks\": \"\", \"title\": {\"standoff\": 15}, \"zerolinecolor\": \"white\", \"zerolinewidth\": 2}, \"yaxis\": {\"automargin\": true, \"gridcolor\": \"white\", \"linecolor\": \"white\", \"ticks\": \"\", \"title\": {\"standoff\": 15}, \"zerolinecolor\": \"white\", \"zerolinewidth\": 2}}}, \"xaxis\": {\"anchor\": \"y\", \"domain\": [0.0, 1.0], \"title\": {\"text\": \"gdpp\"}}, \"yaxis\": {\"anchor\": \"x\", \"domain\": [0.0, 1.0], \"title\": {\"text\": \"income\"}}},                        {\"responsive\": true}                    ).then(function(){\n",
       "                            \n",
       "var gd = document.getElementById('f2f460a5-4370-4e17-a662-ec5505ae88b8');\n",
       "var x = new MutationObserver(function (mutations, observer) {{\n",
       "        var display = window.getComputedStyle(gd).display;\n",
       "        if (!display || display === 'none') {{\n",
       "            console.log([gd, 'removed!']);\n",
       "            Plotly.purge(gd);\n",
       "            observer.disconnect();\n",
       "        }}\n",
       "}});\n",
       "\n",
       "// Listen for the removal of the full notebook cells\n",
       "var notebookContainer = gd.closest('#notebook-container');\n",
       "if (notebookContainer) {{\n",
       "    x.observe(notebookContainer, {childList: true});\n",
       "}}\n",
       "\n",
       "// Listen for the clearing of the current output cell\n",
       "var outputEl = gd.closest('.output');\n",
       "if (outputEl) {{\n",
       "    x.observe(outputEl, {childList: true});\n",
       "}}\n",
       "\n",
       "                        })                };                });            </script>        </div>"
      ]
     },
     "metadata": {},
     "output_type": "display_data"
    }
   ],
   "source": [
    "px.scatter(transformed_data, x=\"gdpp\", y=\"income\", color=\"kmeans_grp\")"
   ]
  },
  {
   "cell_type": "code",
   "execution_count": 28,
   "metadata": {},
   "outputs": [
    {
     "data": {
      "application/vnd.plotly.v1+json": {
       "config": {
        "plotlyServerURL": "https://plot.ly"
       },
       "data": [
        {
         "hovertemplate": "child_mort=%{x}<br>income=%{y}<br>kmeans_grp=%{marker.color}<extra></extra>",
         "legendgroup": "",
         "marker": {
          "color": [
           0,
           1,
           1,
           0,
           2,
           1,
           1,
           2,
           2,
           1,
           2,
           2,
           0,
           2,
           1,
           2,
           1,
           0,
           1,
           1,
           1,
           1,
           1,
           2,
           1,
           0,
           0,
           0,
           0,
           2,
           1,
           0,
           0,
           1,
           1,
           1,
           0,
           0,
           0,
           1,
           0,
           2,
           2,
           2,
           2,
           1,
           1,
           1,
           1,
           1,
           0,
           2,
           1,
           2,
           2,
           1,
           0,
           1,
           2,
           0,
           2,
           1,
           1,
           0,
           0,
           1,
           0,
           2,
           2,
           0,
           1,
           1,
           1,
           2,
           2,
           2,
           1,
           2,
           1,
           1,
           0,
           0,
           2,
           0,
           0,
           2,
           2,
           0,
           0,
           1,
           2,
           2,
           1,
           0,
           0,
           1,
           1,
           0,
           2,
           0,
           1,
           1,
           1,
           1,
           1,
           1,
           0,
           0,
           1,
           0,
           2,
           2,
           0,
           0,
           2,
           1,
           0,
           1,
           1,
           1,
           1,
           2,
           2,
           2,
           1,
           1,
           0,
           1,
           1,
           0,
           1,
           2,
           0,
           2,
           2,
           2,
           0,
           1,
           2,
           2,
           1,
           1,
           0,
           1,
           2,
           2,
           0,
           0,
           1,
           0,
           0,
           1,
           1,
           1,
           1,
           0,
           1,
           2,
           2,
           2,
           1,
           0,
           1,
           1,
           1,
           0,
           0
          ],
          "coloraxis": "coloraxis",
          "symbol": "circle"
         },
         "mode": "markers",
         "name": "",
         "orientation": "v",
         "showlegend": false,
         "type": "scatter",
         "x": [
          1.2666987876373508,
          -0.22099357350676196,
          0.21783353675770972,
          1.5061856431753435,
          -0.6373804691100983,
          -0.33969717664236515,
          -0.14487683650357047,
          -1.2771174537048993,
          -1.3648066968292312,
          0.5372208381563884,
          -0.38300949863868605,
          -0.792316112249898,
          0.7407931705829087,
          -0.35800604335016506,
          -1.1667018823982978,
          -1.3287415959033688,
          -0.11145247484593723,
          1.4462074514577277,
          0.612574323693976,
          0.6894958071433077,
          -0.9787577718044318,
          0.7942474417809594,
          -0.06577043137486752,
          -0.6207637648049376,
          -0.5963923603918716,
          1.4841936434144352,
          1.2987804878380735,
          0.6469453831059231,
          1.4225620817069757,
          -1.1519425073249863,
          0.19155731120497768,
          1.6991293662891973,
          1.704850294347559,
          -0.7824406125164463,
          -0.26996450209017275,
          -0.12087566463026808,
          1.2472425657082997,
          1.4841936434144352,
          0.9664263771493297,
          -0.6458035510496302,
          1.4462074514577277,
          -1.1667018823982978,
          -1.5031804168657965,
          -1.5467533882049198,
          -1.4023115350372006,
          0.4219977660072737,
          0.14360728714297763,
          0.2742427334266367,
          -0.09289866990266026,
          1.4462074514577277,
          0.8382500289745218,
          -1.3287415959033688,
          0.10769486296713643,
          -1.6404209099401066,
          -1.3833721304927074,
          0.9636849373342334,
          1.1657002180307297,
          -0.22630497103549171,
          -1.3833721304927074,
          1.1027555910132607,
          -1.441373548271907,
          -0.3336757771003259,
          0.4472869827833705,
          1.4305180658465129,
          1.4692049818859112,
          0.5004761851525977,
          1.9830128659285746,
          -1.095138017282891,
          -1.7443501501314096,
          0.8936263611078374,
          0.39330948710124475,
          -0.08831973717795297,
          0.48390085853791964,
          -1.3833721304927074,
          -1.3112157804450006,
          -1.4216400017501092,
          -0.14487683650357047,
          -1.5924304285445043,
          -0.009675832941860155,
          0.006897442534192403,
          0.9428396931410642,
          0.9498445934018676,
          -0.5963923603918716,
          0.28929205024019755,
          1.1503954567428343,
          -0.875385309292419,
          -0.6373804691100983,
          1.353450550932691,
          1.2579988057993743,
          -0.22099357350676196,
          -1.0814626663359583,
          -1.6909668691190674,
          -0.6290343298992782,
          0.9428396931410642,
          1.2695790104111888,
          -0.8645826020112761,
          -0.4218600186321907,
          1.627218561060221,
          -0.9909907340207916,
          1.3332510556400443,
          -0.3099839953154471,
          0.5550284096650749,
          -0.1897681037016062,
          0.17812037735725353,
          -0.9909907340207916,
          0.3985958613802086,
          1.3646570993650275,
          0.9732418306261512,
          0.8508675968253626,
          0.6970127438195042,
          -1.3287415959033688,
          -1.0679856012695939,
          1.534637556475531,
          1.5822111252214763,
          -1.5924304285445043,
          -0.5269592116006369,
          1.2847766700142729,
          -0.07023500240660879,
          0.10769486296713643,
          -0.04377633731191125,
          0.35538516875743437,
          -1.095138017282891,
          -1.441373548271907,
          -0.7534355641320528,
          -0.5419378049956843,
          -0.6628862053477612,
          0.9623109203123029,
          -0.10677782628816508,
          -0.26996450209017275,
          1.0052212332551556,
          -0.8973778930832148,
          -0.3457589947998318,
          1.7599891639700695,
          -1.6909668691190674,
          -0.9666843359520091,
          -1.5924304285445043,
          0.2433505539525857,
          0.814081983062824,
          -1.4023115350372006,
          -1.4615291957442895,
          -0.5648781738006382,
          -0.026563124470277685,
          1.1257741713270566,
          0.10769486296713643,
          -1.6404209099401066,
          -1.3287415959033688,
          0.7925737874489794,
          1.0694473603311871,
          -0.31584888043942444,
          0.9484481852060046,
          1.2676599521186298,
          -0.17959633114255213,
          -0.17959633114255213,
          -0.09750116876165638,
          0.9400216282628566,
          1.1732504274240727,
          -0.5269592116006369,
          -0.792316112249898,
          -1.2124350034336677,
          -0.9313815726512217,
          -0.6125674411961712,
          0.4694387749323852,
          0.27727323352026323,
          -0.19489754158099218,
          0.07787993290232867,
          0.8555519038233427,
          1.1955063509250137
         ],
         "xaxis": "x",
         "y": [
          -1.368935096934954,
          0.01253819077198113,
          0.23227507658137417,
          -0.4082509314965139,
          0.5725827226611822,
          0.5538950488336453,
          -0.3074477710476082,
          1.2828915985514626,
          1.3235521080943395,
          0.41739784817302683,
          0.7343931047049667,
          1.2759602911766095,
          -1.0746093777535404,
          0.37862144943678716,
          0.42819565946962285,
          1.2759602911766095,
          -0.17701004424147704,
          -1.2833900877351672,
          -0.3414302284491186,
          -0.47626891401333804,
          -0.005164023051270053,
          0.25828729928926825,
          0.3322952111181761,
          1.9392173421323424,
          0.37862144943678716,
          -1.4506837115210347,
          -1.8673836326141555,
          -1.0512647776484731,
          -1.011974465052648,
          1.2666472024728626,
          -0.41764844981524546,
          -1.7697434707180204,
          -1.2420776146284562,
          0.5863681812119189,
          -0.02148014581382832,
          0.09016088922534114,
          -1.4603320849573882,
          -2.0118640689258473,
          -0.5086333481921104,
          0.23884563433557787,
          -1.0037983928841145,
          0.6178009855717725,
          1.0941928542786112,
          0.9268718713296276,
          1.3411347770453184,
          0.10538662247469578,
          -0.03721049601427671,
          0.0066752921685413035,
          -0.23874289182453573,
          1.0886623440327474,
          -1.455492584173589,
          0.726504230671293,
          -0.23325000472564175,
          1.245387097056577,
          1.1738010259871252,
          0.38425771837275424,
          -1.3476921824714845,
          -0.30388314889717305,
          1.2596080407871055,
          -0.9091973692158937,
          0.9397728663672638,
          0.1129069061916272,
          -0.30625796677879386,
          -1.575491493760114,
          -1.4701046364354347,
          -0.41629973622905325,
          -1.4178460988057977,
          0.7105365524795226,
          1.2212499617859425,
          -0.6343304057063874,
          -0.12214661658191157,
          0.49056434597707566,
          0.2189949446851405,
          1.3775600814883862,
          0.9682170825640471,
          1.1557626594269665,
          -0.1647516309885715,
          1.145313241524702,
          -0.026693592506679836,
          0.6178009855717725,
          -1.0628521858413478,
          -1.3189013745241107,
          1.868887537869078,
          -0.9771262639965204,
          -0.7124890153431157,
          0.5348432230805283,
          0.4335495425240777,
          -1.0925752444073422,
          -1.9235141200720574,
          0.9682170825640471,
          0.661033483425971,
          2.071345528559095,
          0.1277674986536046,
          -1.4701046364354347,
          -1.672009198944763,
          0.661033483425971,
          0.05893790712998525,
          -1.2643402761289313,
          0.9268718713296276,
          -0.8487138613332409,
          0.4119532050923741,
          -0.8442401805970247,
          -0.7259277401453466,
          -0.19466757524944872,
          0.3021560760745075,
          -0.3389590068891785,
          -1.7479772982717623,
          -0.763529330781548,
          -0.11924786323797558,
          -1.2204304983153604,
          1.3733388164038558,
          1.0490981071737708,
          -1.8264071103820427,
          -0.5146503756633873,
          1.6804191058295954,
          1.3691007786642257,
          -0.6572069890187027,
          0.38425771837275424,
          -0.23984554014734147,
          0.015039455697701765,
          -0.44925943780869815,
          0.6902095601631111,
          0.8905266773878163,
          2.395485142159459,
          0.5104929611399245,
          0.7422200666392714,
          -1.4900360935429815,
          -0.4777140445562379,
          1.371221902894695,
          -1.155564068462263,
          0.2189949446851405,
          0.6309707794886071,
          -1.558709835137907,
          1.826426186637527,
          0.8209064679359245,
          0.9397728663672638,
          -1.2989727843048202,
          0.17097917401569523,
          0.9928532325063486,
          1.0548437565608624,
          -0.10965186570916412,
          0.011702920841702586,
          -0.837574753457105,
          0.3143264699299677,
          1.316882797388959,
          1.5663780747536782,
          -1.1788465396287253,
          -1.1856266074526034,
          0.2710297994010462,
          -1.271904435247215,
          -1.5642619839834526,
          -0.5407024169950835,
          0.05096464680150727,
          0.5203062166137049,
          0.013372702258383518,
          -1.399697052255473,
          -0.18320252843188606,
          1.6028830724751755,
          1.1557626594269665,
          1.452790890723543,
          0.47534481052397404,
          -0.6643720799042259,
          -0.936192897746986,
          0.44416900314115515,
          -0.6205530302824532,
          -0.6222630367410245,
          -0.8577346214407305
         ],
         "yaxis": "y"
        }
       ],
       "layout": {
        "coloraxis": {
         "colorbar": {
          "title": {
           "text": "kmeans_grp"
          }
         },
         "colorscale": [
          [
           0,
           "#0d0887"
          ],
          [
           0.1111111111111111,
           "#46039f"
          ],
          [
           0.2222222222222222,
           "#7201a8"
          ],
          [
           0.3333333333333333,
           "#9c179e"
          ],
          [
           0.4444444444444444,
           "#bd3786"
          ],
          [
           0.5555555555555556,
           "#d8576b"
          ],
          [
           0.6666666666666666,
           "#ed7953"
          ],
          [
           0.7777777777777778,
           "#fb9f3a"
          ],
          [
           0.8888888888888888,
           "#fdca26"
          ],
          [
           1,
           "#f0f921"
          ]
         ]
        },
        "legend": {
         "tracegroupgap": 0
        },
        "margin": {
         "t": 60
        },
        "template": {
         "data": {
          "bar": [
           {
            "error_x": {
             "color": "#2a3f5f"
            },
            "error_y": {
             "color": "#2a3f5f"
            },
            "marker": {
             "line": {
              "color": "#E5ECF6",
              "width": 0.5
             }
            },
            "type": "bar"
           }
          ],
          "barpolar": [
           {
            "marker": {
             "line": {
              "color": "#E5ECF6",
              "width": 0.5
             }
            },
            "type": "barpolar"
           }
          ],
          "carpet": [
           {
            "aaxis": {
             "endlinecolor": "#2a3f5f",
             "gridcolor": "white",
             "linecolor": "white",
             "minorgridcolor": "white",
             "startlinecolor": "#2a3f5f"
            },
            "baxis": {
             "endlinecolor": "#2a3f5f",
             "gridcolor": "white",
             "linecolor": "white",
             "minorgridcolor": "white",
             "startlinecolor": "#2a3f5f"
            },
            "type": "carpet"
           }
          ],
          "choropleth": [
           {
            "colorbar": {
             "outlinewidth": 0,
             "ticks": ""
            },
            "type": "choropleth"
           }
          ],
          "contour": [
           {
            "colorbar": {
             "outlinewidth": 0,
             "ticks": ""
            },
            "colorscale": [
             [
              0,
              "#0d0887"
             ],
             [
              0.1111111111111111,
              "#46039f"
             ],
             [
              0.2222222222222222,
              "#7201a8"
             ],
             [
              0.3333333333333333,
              "#9c179e"
             ],
             [
              0.4444444444444444,
              "#bd3786"
             ],
             [
              0.5555555555555556,
              "#d8576b"
             ],
             [
              0.6666666666666666,
              "#ed7953"
             ],
             [
              0.7777777777777778,
              "#fb9f3a"
             ],
             [
              0.8888888888888888,
              "#fdca26"
             ],
             [
              1,
              "#f0f921"
             ]
            ],
            "type": "contour"
           }
          ],
          "contourcarpet": [
           {
            "colorbar": {
             "outlinewidth": 0,
             "ticks": ""
            },
            "type": "contourcarpet"
           }
          ],
          "heatmap": [
           {
            "colorbar": {
             "outlinewidth": 0,
             "ticks": ""
            },
            "colorscale": [
             [
              0,
              "#0d0887"
             ],
             [
              0.1111111111111111,
              "#46039f"
             ],
             [
              0.2222222222222222,
              "#7201a8"
             ],
             [
              0.3333333333333333,
              "#9c179e"
             ],
             [
              0.4444444444444444,
              "#bd3786"
             ],
             [
              0.5555555555555556,
              "#d8576b"
             ],
             [
              0.6666666666666666,
              "#ed7953"
             ],
             [
              0.7777777777777778,
              "#fb9f3a"
             ],
             [
              0.8888888888888888,
              "#fdca26"
             ],
             [
              1,
              "#f0f921"
             ]
            ],
            "type": "heatmap"
           }
          ],
          "heatmapgl": [
           {
            "colorbar": {
             "outlinewidth": 0,
             "ticks": ""
            },
            "colorscale": [
             [
              0,
              "#0d0887"
             ],
             [
              0.1111111111111111,
              "#46039f"
             ],
             [
              0.2222222222222222,
              "#7201a8"
             ],
             [
              0.3333333333333333,
              "#9c179e"
             ],
             [
              0.4444444444444444,
              "#bd3786"
             ],
             [
              0.5555555555555556,
              "#d8576b"
             ],
             [
              0.6666666666666666,
              "#ed7953"
             ],
             [
              0.7777777777777778,
              "#fb9f3a"
             ],
             [
              0.8888888888888888,
              "#fdca26"
             ],
             [
              1,
              "#f0f921"
             ]
            ],
            "type": "heatmapgl"
           }
          ],
          "histogram": [
           {
            "marker": {
             "colorbar": {
              "outlinewidth": 0,
              "ticks": ""
             }
            },
            "type": "histogram"
           }
          ],
          "histogram2d": [
           {
            "colorbar": {
             "outlinewidth": 0,
             "ticks": ""
            },
            "colorscale": [
             [
              0,
              "#0d0887"
             ],
             [
              0.1111111111111111,
              "#46039f"
             ],
             [
              0.2222222222222222,
              "#7201a8"
             ],
             [
              0.3333333333333333,
              "#9c179e"
             ],
             [
              0.4444444444444444,
              "#bd3786"
             ],
             [
              0.5555555555555556,
              "#d8576b"
             ],
             [
              0.6666666666666666,
              "#ed7953"
             ],
             [
              0.7777777777777778,
              "#fb9f3a"
             ],
             [
              0.8888888888888888,
              "#fdca26"
             ],
             [
              1,
              "#f0f921"
             ]
            ],
            "type": "histogram2d"
           }
          ],
          "histogram2dcontour": [
           {
            "colorbar": {
             "outlinewidth": 0,
             "ticks": ""
            },
            "colorscale": [
             [
              0,
              "#0d0887"
             ],
             [
              0.1111111111111111,
              "#46039f"
             ],
             [
              0.2222222222222222,
              "#7201a8"
             ],
             [
              0.3333333333333333,
              "#9c179e"
             ],
             [
              0.4444444444444444,
              "#bd3786"
             ],
             [
              0.5555555555555556,
              "#d8576b"
             ],
             [
              0.6666666666666666,
              "#ed7953"
             ],
             [
              0.7777777777777778,
              "#fb9f3a"
             ],
             [
              0.8888888888888888,
              "#fdca26"
             ],
             [
              1,
              "#f0f921"
             ]
            ],
            "type": "histogram2dcontour"
           }
          ],
          "mesh3d": [
           {
            "colorbar": {
             "outlinewidth": 0,
             "ticks": ""
            },
            "type": "mesh3d"
           }
          ],
          "parcoords": [
           {
            "line": {
             "colorbar": {
              "outlinewidth": 0,
              "ticks": ""
             }
            },
            "type": "parcoords"
           }
          ],
          "pie": [
           {
            "automargin": true,
            "type": "pie"
           }
          ],
          "scatter": [
           {
            "marker": {
             "colorbar": {
              "outlinewidth": 0,
              "ticks": ""
             }
            },
            "type": "scatter"
           }
          ],
          "scatter3d": [
           {
            "line": {
             "colorbar": {
              "outlinewidth": 0,
              "ticks": ""
             }
            },
            "marker": {
             "colorbar": {
              "outlinewidth": 0,
              "ticks": ""
             }
            },
            "type": "scatter3d"
           }
          ],
          "scattercarpet": [
           {
            "marker": {
             "colorbar": {
              "outlinewidth": 0,
              "ticks": ""
             }
            },
            "type": "scattercarpet"
           }
          ],
          "scattergeo": [
           {
            "marker": {
             "colorbar": {
              "outlinewidth": 0,
              "ticks": ""
             }
            },
            "type": "scattergeo"
           }
          ],
          "scattergl": [
           {
            "marker": {
             "colorbar": {
              "outlinewidth": 0,
              "ticks": ""
             }
            },
            "type": "scattergl"
           }
          ],
          "scattermapbox": [
           {
            "marker": {
             "colorbar": {
              "outlinewidth": 0,
              "ticks": ""
             }
            },
            "type": "scattermapbox"
           }
          ],
          "scatterpolar": [
           {
            "marker": {
             "colorbar": {
              "outlinewidth": 0,
              "ticks": ""
             }
            },
            "type": "scatterpolar"
           }
          ],
          "scatterpolargl": [
           {
            "marker": {
             "colorbar": {
              "outlinewidth": 0,
              "ticks": ""
             }
            },
            "type": "scatterpolargl"
           }
          ],
          "scatterternary": [
           {
            "marker": {
             "colorbar": {
              "outlinewidth": 0,
              "ticks": ""
             }
            },
            "type": "scatterternary"
           }
          ],
          "surface": [
           {
            "colorbar": {
             "outlinewidth": 0,
             "ticks": ""
            },
            "colorscale": [
             [
              0,
              "#0d0887"
             ],
             [
              0.1111111111111111,
              "#46039f"
             ],
             [
              0.2222222222222222,
              "#7201a8"
             ],
             [
              0.3333333333333333,
              "#9c179e"
             ],
             [
              0.4444444444444444,
              "#bd3786"
             ],
             [
              0.5555555555555556,
              "#d8576b"
             ],
             [
              0.6666666666666666,
              "#ed7953"
             ],
             [
              0.7777777777777778,
              "#fb9f3a"
             ],
             [
              0.8888888888888888,
              "#fdca26"
             ],
             [
              1,
              "#f0f921"
             ]
            ],
            "type": "surface"
           }
          ],
          "table": [
           {
            "cells": {
             "fill": {
              "color": "#EBF0F8"
             },
             "line": {
              "color": "white"
             }
            },
            "header": {
             "fill": {
              "color": "#C8D4E3"
             },
             "line": {
              "color": "white"
             }
            },
            "type": "table"
           }
          ]
         },
         "layout": {
          "annotationdefaults": {
           "arrowcolor": "#2a3f5f",
           "arrowhead": 0,
           "arrowwidth": 1
          },
          "coloraxis": {
           "colorbar": {
            "outlinewidth": 0,
            "ticks": ""
           }
          },
          "colorscale": {
           "diverging": [
            [
             0,
             "#8e0152"
            ],
            [
             0.1,
             "#c51b7d"
            ],
            [
             0.2,
             "#de77ae"
            ],
            [
             0.3,
             "#f1b6da"
            ],
            [
             0.4,
             "#fde0ef"
            ],
            [
             0.5,
             "#f7f7f7"
            ],
            [
             0.6,
             "#e6f5d0"
            ],
            [
             0.7,
             "#b8e186"
            ],
            [
             0.8,
             "#7fbc41"
            ],
            [
             0.9,
             "#4d9221"
            ],
            [
             1,
             "#276419"
            ]
           ],
           "sequential": [
            [
             0,
             "#0d0887"
            ],
            [
             0.1111111111111111,
             "#46039f"
            ],
            [
             0.2222222222222222,
             "#7201a8"
            ],
            [
             0.3333333333333333,
             "#9c179e"
            ],
            [
             0.4444444444444444,
             "#bd3786"
            ],
            [
             0.5555555555555556,
             "#d8576b"
            ],
            [
             0.6666666666666666,
             "#ed7953"
            ],
            [
             0.7777777777777778,
             "#fb9f3a"
            ],
            [
             0.8888888888888888,
             "#fdca26"
            ],
            [
             1,
             "#f0f921"
            ]
           ],
           "sequentialminus": [
            [
             0,
             "#0d0887"
            ],
            [
             0.1111111111111111,
             "#46039f"
            ],
            [
             0.2222222222222222,
             "#7201a8"
            ],
            [
             0.3333333333333333,
             "#9c179e"
            ],
            [
             0.4444444444444444,
             "#bd3786"
            ],
            [
             0.5555555555555556,
             "#d8576b"
            ],
            [
             0.6666666666666666,
             "#ed7953"
            ],
            [
             0.7777777777777778,
             "#fb9f3a"
            ],
            [
             0.8888888888888888,
             "#fdca26"
            ],
            [
             1,
             "#f0f921"
            ]
           ]
          },
          "colorway": [
           "#636efa",
           "#EF553B",
           "#00cc96",
           "#ab63fa",
           "#FFA15A",
           "#19d3f3",
           "#FF6692",
           "#B6E880",
           "#FF97FF",
           "#FECB52"
          ],
          "font": {
           "color": "#2a3f5f"
          },
          "geo": {
           "bgcolor": "white",
           "lakecolor": "white",
           "landcolor": "#E5ECF6",
           "showlakes": true,
           "showland": true,
           "subunitcolor": "white"
          },
          "hoverlabel": {
           "align": "left"
          },
          "hovermode": "closest",
          "mapbox": {
           "style": "light"
          },
          "paper_bgcolor": "white",
          "plot_bgcolor": "#E5ECF6",
          "polar": {
           "angularaxis": {
            "gridcolor": "white",
            "linecolor": "white",
            "ticks": ""
           },
           "bgcolor": "#E5ECF6",
           "radialaxis": {
            "gridcolor": "white",
            "linecolor": "white",
            "ticks": ""
           }
          },
          "scene": {
           "xaxis": {
            "backgroundcolor": "#E5ECF6",
            "gridcolor": "white",
            "gridwidth": 2,
            "linecolor": "white",
            "showbackground": true,
            "ticks": "",
            "zerolinecolor": "white"
           },
           "yaxis": {
            "backgroundcolor": "#E5ECF6",
            "gridcolor": "white",
            "gridwidth": 2,
            "linecolor": "white",
            "showbackground": true,
            "ticks": "",
            "zerolinecolor": "white"
           },
           "zaxis": {
            "backgroundcolor": "#E5ECF6",
            "gridcolor": "white",
            "gridwidth": 2,
            "linecolor": "white",
            "showbackground": true,
            "ticks": "",
            "zerolinecolor": "white"
           }
          },
          "shapedefaults": {
           "line": {
            "color": "#2a3f5f"
           }
          },
          "ternary": {
           "aaxis": {
            "gridcolor": "white",
            "linecolor": "white",
            "ticks": ""
           },
           "baxis": {
            "gridcolor": "white",
            "linecolor": "white",
            "ticks": ""
           },
           "bgcolor": "#E5ECF6",
           "caxis": {
            "gridcolor": "white",
            "linecolor": "white",
            "ticks": ""
           }
          },
          "title": {
           "x": 0.05
          },
          "xaxis": {
           "automargin": true,
           "gridcolor": "white",
           "linecolor": "white",
           "ticks": "",
           "title": {
            "standoff": 15
           },
           "zerolinecolor": "white",
           "zerolinewidth": 2
          },
          "yaxis": {
           "automargin": true,
           "gridcolor": "white",
           "linecolor": "white",
           "ticks": "",
           "title": {
            "standoff": 15
           },
           "zerolinecolor": "white",
           "zerolinewidth": 2
          }
         }
        },
        "xaxis": {
         "anchor": "y",
         "domain": [
          0,
          1
         ],
         "title": {
          "text": "child_mort"
         }
        },
        "yaxis": {
         "anchor": "x",
         "domain": [
          0,
          1
         ],
         "title": {
          "text": "income"
         }
        }
       }
      },
      "text/html": [
       "<div>                            <div id=\"d48754c4-78c3-4a96-914f-4307c02691a4\" class=\"plotly-graph-div\" style=\"height:525px; width:100%;\"></div>            <script type=\"text/javascript\">                require([\"plotly\"], function(Plotly) {                    window.PLOTLYENV=window.PLOTLYENV || {};                                    if (document.getElementById(\"d48754c4-78c3-4a96-914f-4307c02691a4\")) {                    Plotly.newPlot(                        \"d48754c4-78c3-4a96-914f-4307c02691a4\",                        [{\"hovertemplate\": \"child_mort=%{x}<br>income=%{y}<br>kmeans_grp=%{marker.color}<extra></extra>\", \"legendgroup\": \"\", \"marker\": {\"color\": [0, 1, 1, 0, 2, 1, 1, 2, 2, 1, 2, 2, 0, 2, 1, 2, 1, 0, 1, 1, 1, 1, 1, 2, 1, 0, 0, 0, 0, 2, 1, 0, 0, 1, 1, 1, 0, 0, 0, 1, 0, 2, 2, 2, 2, 1, 1, 1, 1, 1, 0, 2, 1, 2, 2, 1, 0, 1, 2, 0, 2, 1, 1, 0, 0, 1, 0, 2, 2, 0, 1, 1, 1, 2, 2, 2, 1, 2, 1, 1, 0, 0, 2, 0, 0, 2, 2, 0, 0, 1, 2, 2, 1, 0, 0, 1, 1, 0, 2, 0, 1, 1, 1, 1, 1, 1, 0, 0, 1, 0, 2, 2, 0, 0, 2, 1, 0, 1, 1, 1, 1, 2, 2, 2, 1, 1, 0, 1, 1, 0, 1, 2, 0, 2, 2, 2, 0, 1, 2, 2, 1, 1, 0, 1, 2, 2, 0, 0, 1, 0, 0, 1, 1, 1, 1, 0, 1, 2, 2, 2, 1, 0, 1, 1, 1, 0, 0], \"coloraxis\": \"coloraxis\", \"symbol\": \"circle\"}, \"mode\": \"markers\", \"name\": \"\", \"orientation\": \"v\", \"showlegend\": false, \"type\": \"scatter\", \"x\": [1.2666987876373508, -0.22099357350676196, 0.21783353675770972, 1.5061856431753435, -0.6373804691100983, -0.33969717664236515, -0.14487683650357047, -1.2771174537048993, -1.3648066968292312, 0.5372208381563884, -0.38300949863868605, -0.792316112249898, 0.7407931705829087, -0.35800604335016506, -1.1667018823982978, -1.3287415959033688, -0.11145247484593723, 1.4462074514577277, 0.612574323693976, 0.6894958071433077, -0.9787577718044318, 0.7942474417809594, -0.06577043137486752, -0.6207637648049376, -0.5963923603918716, 1.4841936434144352, 1.2987804878380735, 0.6469453831059231, 1.4225620817069757, -1.1519425073249863, 0.19155731120497768, 1.6991293662891973, 1.704850294347559, -0.7824406125164463, -0.26996450209017275, -0.12087566463026808, 1.2472425657082997, 1.4841936434144352, 0.9664263771493297, -0.6458035510496302, 1.4462074514577277, -1.1667018823982978, -1.5031804168657965, -1.5467533882049198, -1.4023115350372006, 0.4219977660072737, 0.14360728714297763, 0.2742427334266367, -0.09289866990266026, 1.4462074514577277, 0.8382500289745218, -1.3287415959033688, 0.10769486296713643, -1.6404209099401066, -1.3833721304927074, 0.9636849373342334, 1.1657002180307297, -0.22630497103549171, -1.3833721304927074, 1.1027555910132607, -1.441373548271907, -0.3336757771003259, 0.4472869827833705, 1.4305180658465129, 1.4692049818859112, 0.5004761851525977, 1.9830128659285746, -1.095138017282891, -1.7443501501314096, 0.8936263611078374, 0.39330948710124475, -0.08831973717795297, 0.48390085853791964, -1.3833721304927074, -1.3112157804450006, -1.4216400017501092, -0.14487683650357047, -1.5924304285445043, -0.009675832941860155, 0.006897442534192403, 0.9428396931410642, 0.9498445934018676, -0.5963923603918716, 0.28929205024019755, 1.1503954567428343, -0.875385309292419, -0.6373804691100983, 1.353450550932691, 1.2579988057993743, -0.22099357350676196, -1.0814626663359583, -1.6909668691190674, -0.6290343298992782, 0.9428396931410642, 1.2695790104111888, -0.8645826020112761, -0.4218600186321907, 1.627218561060221, -0.9909907340207916, 1.3332510556400443, -0.3099839953154471, 0.5550284096650749, -0.1897681037016062, 0.17812037735725353, -0.9909907340207916, 0.3985958613802086, 1.3646570993650275, 0.9732418306261512, 0.8508675968253626, 0.6970127438195042, -1.3287415959033688, -1.0679856012695939, 1.534637556475531, 1.5822111252214763, -1.5924304285445043, -0.5269592116006369, 1.2847766700142729, -0.07023500240660879, 0.10769486296713643, -0.04377633731191125, 0.35538516875743437, -1.095138017282891, -1.441373548271907, -0.7534355641320528, -0.5419378049956843, -0.6628862053477612, 0.9623109203123029, -0.10677782628816508, -0.26996450209017275, 1.0052212332551556, -0.8973778930832148, -0.3457589947998318, 1.7599891639700695, -1.6909668691190674, -0.9666843359520091, -1.5924304285445043, 0.2433505539525857, 0.814081983062824, -1.4023115350372006, -1.4615291957442895, -0.5648781738006382, -0.026563124470277685, 1.1257741713270566, 0.10769486296713643, -1.6404209099401066, -1.3287415959033688, 0.7925737874489794, 1.0694473603311871, -0.31584888043942444, 0.9484481852060046, 1.2676599521186298, -0.17959633114255213, -0.17959633114255213, -0.09750116876165638, 0.9400216282628566, 1.1732504274240727, -0.5269592116006369, -0.792316112249898, -1.2124350034336677, -0.9313815726512217, -0.6125674411961712, 0.4694387749323852, 0.27727323352026323, -0.19489754158099218, 0.07787993290232867, 0.8555519038233427, 1.1955063509250137], \"xaxis\": \"x\", \"y\": [-1.368935096934954, 0.01253819077198113, 0.23227507658137417, -0.4082509314965139, 0.5725827226611822, 0.5538950488336453, -0.3074477710476082, 1.2828915985514626, 1.3235521080943395, 0.41739784817302683, 0.7343931047049667, 1.2759602911766095, -1.0746093777535404, 0.37862144943678716, 0.42819565946962285, 1.2759602911766095, -0.17701004424147704, -1.2833900877351672, -0.3414302284491186, -0.47626891401333804, -0.005164023051270053, 0.25828729928926825, 0.3322952111181761, 1.9392173421323424, 0.37862144943678716, -1.4506837115210347, -1.8673836326141555, -1.0512647776484731, -1.011974465052648, 1.2666472024728626, -0.41764844981524546, -1.7697434707180204, -1.2420776146284562, 0.5863681812119189, -0.02148014581382832, 0.09016088922534114, -1.4603320849573882, -2.0118640689258473, -0.5086333481921104, 0.23884563433557787, -1.0037983928841145, 0.6178009855717725, 1.0941928542786112, 0.9268718713296276, 1.3411347770453184, 0.10538662247469578, -0.03721049601427671, 0.0066752921685413035, -0.23874289182453573, 1.0886623440327474, -1.455492584173589, 0.726504230671293, -0.23325000472564175, 1.245387097056577, 1.1738010259871252, 0.38425771837275424, -1.3476921824714845, -0.30388314889717305, 1.2596080407871055, -0.9091973692158937, 0.9397728663672638, 0.1129069061916272, -0.30625796677879386, -1.575491493760114, -1.4701046364354347, -0.41629973622905325, -1.4178460988057977, 0.7105365524795226, 1.2212499617859425, -0.6343304057063874, -0.12214661658191157, 0.49056434597707566, 0.2189949446851405, 1.3775600814883862, 0.9682170825640471, 1.1557626594269665, -0.1647516309885715, 1.145313241524702, -0.026693592506679836, 0.6178009855717725, -1.0628521858413478, -1.3189013745241107, 1.868887537869078, -0.9771262639965204, -0.7124890153431157, 0.5348432230805283, 0.4335495425240777, -1.0925752444073422, -1.9235141200720574, 0.9682170825640471, 0.661033483425971, 2.071345528559095, 0.1277674986536046, -1.4701046364354347, -1.672009198944763, 0.661033483425971, 0.05893790712998525, -1.2643402761289313, 0.9268718713296276, -0.8487138613332409, 0.4119532050923741, -0.8442401805970247, -0.7259277401453466, -0.19466757524944872, 0.3021560760745075, -0.3389590068891785, -1.7479772982717623, -0.763529330781548, -0.11924786323797558, -1.2204304983153604, 1.3733388164038558, 1.0490981071737708, -1.8264071103820427, -0.5146503756633873, 1.6804191058295954, 1.3691007786642257, -0.6572069890187027, 0.38425771837275424, -0.23984554014734147, 0.015039455697701765, -0.44925943780869815, 0.6902095601631111, 0.8905266773878163, 2.395485142159459, 0.5104929611399245, 0.7422200666392714, -1.4900360935429815, -0.4777140445562379, 1.371221902894695, -1.155564068462263, 0.2189949446851405, 0.6309707794886071, -1.558709835137907, 1.826426186637527, 0.8209064679359245, 0.9397728663672638, -1.2989727843048202, 0.17097917401569523, 0.9928532325063486, 1.0548437565608624, -0.10965186570916412, 0.011702920841702586, -0.837574753457105, 0.3143264699299677, 1.316882797388959, 1.5663780747536782, -1.1788465396287253, -1.1856266074526034, 0.2710297994010462, -1.271904435247215, -1.5642619839834526, -0.5407024169950835, 0.05096464680150727, 0.5203062166137049, 0.013372702258383518, -1.399697052255473, -0.18320252843188606, 1.6028830724751755, 1.1557626594269665, 1.452790890723543, 0.47534481052397404, -0.6643720799042259, -0.936192897746986, 0.44416900314115515, -0.6205530302824532, -0.6222630367410245, -0.8577346214407305], \"yaxis\": \"y\"}],                        {\"coloraxis\": {\"colorbar\": {\"title\": {\"text\": \"kmeans_grp\"}}, \"colorscale\": [[0.0, \"#0d0887\"], [0.1111111111111111, \"#46039f\"], [0.2222222222222222, \"#7201a8\"], [0.3333333333333333, \"#9c179e\"], [0.4444444444444444, \"#bd3786\"], [0.5555555555555556, \"#d8576b\"], [0.6666666666666666, \"#ed7953\"], [0.7777777777777778, \"#fb9f3a\"], [0.8888888888888888, \"#fdca26\"], [1.0, \"#f0f921\"]]}, \"legend\": {\"tracegroupgap\": 0}, \"margin\": {\"t\": 60}, \"template\": {\"data\": {\"bar\": [{\"error_x\": {\"color\": \"#2a3f5f\"}, \"error_y\": {\"color\": \"#2a3f5f\"}, \"marker\": {\"line\": {\"color\": \"#E5ECF6\", \"width\": 0.5}}, \"type\": \"bar\"}], \"barpolar\": [{\"marker\": {\"line\": {\"color\": \"#E5ECF6\", \"width\": 0.5}}, \"type\": \"barpolar\"}], \"carpet\": [{\"aaxis\": {\"endlinecolor\": \"#2a3f5f\", \"gridcolor\": \"white\", \"linecolor\": \"white\", \"minorgridcolor\": \"white\", \"startlinecolor\": \"#2a3f5f\"}, \"baxis\": {\"endlinecolor\": \"#2a3f5f\", \"gridcolor\": \"white\", \"linecolor\": \"white\", \"minorgridcolor\": \"white\", \"startlinecolor\": \"#2a3f5f\"}, \"type\": \"carpet\"}], \"choropleth\": [{\"colorbar\": {\"outlinewidth\": 0, \"ticks\": \"\"}, \"type\": \"choropleth\"}], \"contour\": [{\"colorbar\": {\"outlinewidth\": 0, \"ticks\": \"\"}, \"colorscale\": [[0.0, \"#0d0887\"], [0.1111111111111111, \"#46039f\"], [0.2222222222222222, \"#7201a8\"], [0.3333333333333333, \"#9c179e\"], [0.4444444444444444, \"#bd3786\"], [0.5555555555555556, \"#d8576b\"], [0.6666666666666666, \"#ed7953\"], [0.7777777777777778, \"#fb9f3a\"], [0.8888888888888888, \"#fdca26\"], [1.0, \"#f0f921\"]], \"type\": \"contour\"}], \"contourcarpet\": [{\"colorbar\": {\"outlinewidth\": 0, \"ticks\": \"\"}, \"type\": \"contourcarpet\"}], \"heatmap\": [{\"colorbar\": {\"outlinewidth\": 0, \"ticks\": \"\"}, \"colorscale\": [[0.0, \"#0d0887\"], [0.1111111111111111, \"#46039f\"], [0.2222222222222222, \"#7201a8\"], [0.3333333333333333, \"#9c179e\"], [0.4444444444444444, \"#bd3786\"], [0.5555555555555556, \"#d8576b\"], [0.6666666666666666, \"#ed7953\"], [0.7777777777777778, \"#fb9f3a\"], [0.8888888888888888, \"#fdca26\"], [1.0, \"#f0f921\"]], \"type\": \"heatmap\"}], \"heatmapgl\": [{\"colorbar\": {\"outlinewidth\": 0, \"ticks\": \"\"}, \"colorscale\": [[0.0, \"#0d0887\"], [0.1111111111111111, \"#46039f\"], [0.2222222222222222, \"#7201a8\"], [0.3333333333333333, \"#9c179e\"], [0.4444444444444444, \"#bd3786\"], [0.5555555555555556, \"#d8576b\"], [0.6666666666666666, \"#ed7953\"], [0.7777777777777778, \"#fb9f3a\"], [0.8888888888888888, \"#fdca26\"], [1.0, \"#f0f921\"]], \"type\": \"heatmapgl\"}], \"histogram\": [{\"marker\": {\"colorbar\": {\"outlinewidth\": 0, \"ticks\": \"\"}}, \"type\": \"histogram\"}], \"histogram2d\": [{\"colorbar\": {\"outlinewidth\": 0, \"ticks\": \"\"}, \"colorscale\": [[0.0, \"#0d0887\"], [0.1111111111111111, \"#46039f\"], [0.2222222222222222, \"#7201a8\"], [0.3333333333333333, \"#9c179e\"], [0.4444444444444444, \"#bd3786\"], [0.5555555555555556, \"#d8576b\"], [0.6666666666666666, \"#ed7953\"], [0.7777777777777778, \"#fb9f3a\"], [0.8888888888888888, \"#fdca26\"], [1.0, \"#f0f921\"]], \"type\": \"histogram2d\"}], \"histogram2dcontour\": [{\"colorbar\": {\"outlinewidth\": 0, \"ticks\": \"\"}, \"colorscale\": [[0.0, \"#0d0887\"], [0.1111111111111111, \"#46039f\"], [0.2222222222222222, \"#7201a8\"], [0.3333333333333333, \"#9c179e\"], [0.4444444444444444, \"#bd3786\"], [0.5555555555555556, \"#d8576b\"], [0.6666666666666666, \"#ed7953\"], [0.7777777777777778, \"#fb9f3a\"], [0.8888888888888888, \"#fdca26\"], [1.0, \"#f0f921\"]], \"type\": \"histogram2dcontour\"}], \"mesh3d\": [{\"colorbar\": {\"outlinewidth\": 0, \"ticks\": \"\"}, \"type\": \"mesh3d\"}], \"parcoords\": [{\"line\": {\"colorbar\": {\"outlinewidth\": 0, \"ticks\": \"\"}}, \"type\": \"parcoords\"}], \"pie\": [{\"automargin\": true, \"type\": \"pie\"}], \"scatter\": [{\"marker\": {\"colorbar\": {\"outlinewidth\": 0, \"ticks\": \"\"}}, \"type\": \"scatter\"}], \"scatter3d\": [{\"line\": {\"colorbar\": {\"outlinewidth\": 0, \"ticks\": \"\"}}, \"marker\": {\"colorbar\": {\"outlinewidth\": 0, \"ticks\": \"\"}}, \"type\": \"scatter3d\"}], \"scattercarpet\": [{\"marker\": {\"colorbar\": {\"outlinewidth\": 0, \"ticks\": \"\"}}, \"type\": \"scattercarpet\"}], \"scattergeo\": [{\"marker\": {\"colorbar\": {\"outlinewidth\": 0, \"ticks\": \"\"}}, \"type\": \"scattergeo\"}], \"scattergl\": [{\"marker\": {\"colorbar\": {\"outlinewidth\": 0, \"ticks\": \"\"}}, \"type\": \"scattergl\"}], \"scattermapbox\": [{\"marker\": {\"colorbar\": {\"outlinewidth\": 0, \"ticks\": \"\"}}, \"type\": \"scattermapbox\"}], \"scatterpolar\": [{\"marker\": {\"colorbar\": {\"outlinewidth\": 0, \"ticks\": \"\"}}, \"type\": \"scatterpolar\"}], \"scatterpolargl\": [{\"marker\": {\"colorbar\": {\"outlinewidth\": 0, \"ticks\": \"\"}}, \"type\": \"scatterpolargl\"}], \"scatterternary\": [{\"marker\": {\"colorbar\": {\"outlinewidth\": 0, \"ticks\": \"\"}}, \"type\": \"scatterternary\"}], \"surface\": [{\"colorbar\": {\"outlinewidth\": 0, \"ticks\": \"\"}, \"colorscale\": [[0.0, \"#0d0887\"], [0.1111111111111111, \"#46039f\"], [0.2222222222222222, \"#7201a8\"], [0.3333333333333333, \"#9c179e\"], [0.4444444444444444, \"#bd3786\"], [0.5555555555555556, \"#d8576b\"], [0.6666666666666666, \"#ed7953\"], [0.7777777777777778, \"#fb9f3a\"], [0.8888888888888888, \"#fdca26\"], [1.0, \"#f0f921\"]], \"type\": \"surface\"}], \"table\": [{\"cells\": {\"fill\": {\"color\": \"#EBF0F8\"}, \"line\": {\"color\": \"white\"}}, \"header\": {\"fill\": {\"color\": \"#C8D4E3\"}, \"line\": {\"color\": \"white\"}}, \"type\": \"table\"}]}, \"layout\": {\"annotationdefaults\": {\"arrowcolor\": \"#2a3f5f\", \"arrowhead\": 0, \"arrowwidth\": 1}, \"coloraxis\": {\"colorbar\": {\"outlinewidth\": 0, \"ticks\": \"\"}}, \"colorscale\": {\"diverging\": [[0, \"#8e0152\"], [0.1, \"#c51b7d\"], [0.2, \"#de77ae\"], [0.3, \"#f1b6da\"], [0.4, \"#fde0ef\"], [0.5, \"#f7f7f7\"], [0.6, \"#e6f5d0\"], [0.7, \"#b8e186\"], [0.8, \"#7fbc41\"], [0.9, \"#4d9221\"], [1, \"#276419\"]], \"sequential\": [[0.0, \"#0d0887\"], [0.1111111111111111, \"#46039f\"], [0.2222222222222222, \"#7201a8\"], [0.3333333333333333, \"#9c179e\"], [0.4444444444444444, \"#bd3786\"], [0.5555555555555556, \"#d8576b\"], [0.6666666666666666, \"#ed7953\"], [0.7777777777777778, \"#fb9f3a\"], [0.8888888888888888, \"#fdca26\"], [1.0, \"#f0f921\"]], \"sequentialminus\": [[0.0, \"#0d0887\"], [0.1111111111111111, \"#46039f\"], [0.2222222222222222, \"#7201a8\"], [0.3333333333333333, \"#9c179e\"], [0.4444444444444444, \"#bd3786\"], [0.5555555555555556, \"#d8576b\"], [0.6666666666666666, \"#ed7953\"], [0.7777777777777778, \"#fb9f3a\"], [0.8888888888888888, \"#fdca26\"], [1.0, \"#f0f921\"]]}, \"colorway\": [\"#636efa\", \"#EF553B\", \"#00cc96\", \"#ab63fa\", \"#FFA15A\", \"#19d3f3\", \"#FF6692\", \"#B6E880\", \"#FF97FF\", \"#FECB52\"], \"font\": {\"color\": \"#2a3f5f\"}, \"geo\": {\"bgcolor\": \"white\", \"lakecolor\": \"white\", \"landcolor\": \"#E5ECF6\", \"showlakes\": true, \"showland\": true, \"subunitcolor\": \"white\"}, \"hoverlabel\": {\"align\": \"left\"}, \"hovermode\": \"closest\", \"mapbox\": {\"style\": \"light\"}, \"paper_bgcolor\": \"white\", \"plot_bgcolor\": \"#E5ECF6\", \"polar\": {\"angularaxis\": {\"gridcolor\": \"white\", \"linecolor\": \"white\", \"ticks\": \"\"}, \"bgcolor\": \"#E5ECF6\", \"radialaxis\": {\"gridcolor\": \"white\", \"linecolor\": \"white\", \"ticks\": \"\"}}, \"scene\": {\"xaxis\": {\"backgroundcolor\": \"#E5ECF6\", \"gridcolor\": \"white\", \"gridwidth\": 2, \"linecolor\": \"white\", \"showbackground\": true, \"ticks\": \"\", \"zerolinecolor\": \"white\"}, \"yaxis\": {\"backgroundcolor\": \"#E5ECF6\", \"gridcolor\": \"white\", \"gridwidth\": 2, \"linecolor\": \"white\", \"showbackground\": true, \"ticks\": \"\", \"zerolinecolor\": \"white\"}, \"zaxis\": {\"backgroundcolor\": \"#E5ECF6\", \"gridcolor\": \"white\", \"gridwidth\": 2, \"linecolor\": \"white\", \"showbackground\": true, \"ticks\": \"\", \"zerolinecolor\": \"white\"}}, \"shapedefaults\": {\"line\": {\"color\": \"#2a3f5f\"}}, \"ternary\": {\"aaxis\": {\"gridcolor\": \"white\", \"linecolor\": \"white\", \"ticks\": \"\"}, \"baxis\": {\"gridcolor\": \"white\", \"linecolor\": \"white\", \"ticks\": \"\"}, \"bgcolor\": \"#E5ECF6\", \"caxis\": {\"gridcolor\": \"white\", \"linecolor\": \"white\", \"ticks\": \"\"}}, \"title\": {\"x\": 0.05}, \"xaxis\": {\"automargin\": true, \"gridcolor\": \"white\", \"linecolor\": \"white\", \"ticks\": \"\", \"title\": {\"standoff\": 15}, \"zerolinecolor\": \"white\", \"zerolinewidth\": 2}, \"yaxis\": {\"automargin\": true, \"gridcolor\": \"white\", \"linecolor\": \"white\", \"ticks\": \"\", \"title\": {\"standoff\": 15}, \"zerolinecolor\": \"white\", \"zerolinewidth\": 2}}}, \"xaxis\": {\"anchor\": \"y\", \"domain\": [0.0, 1.0], \"title\": {\"text\": \"child_mort\"}}, \"yaxis\": {\"anchor\": \"x\", \"domain\": [0.0, 1.0], \"title\": {\"text\": \"income\"}}},                        {\"responsive\": true}                    ).then(function(){\n",
       "                            \n",
       "var gd = document.getElementById('d48754c4-78c3-4a96-914f-4307c02691a4');\n",
       "var x = new MutationObserver(function (mutations, observer) {{\n",
       "        var display = window.getComputedStyle(gd).display;\n",
       "        if (!display || display === 'none') {{\n",
       "            console.log([gd, 'removed!']);\n",
       "            Plotly.purge(gd);\n",
       "            observer.disconnect();\n",
       "        }}\n",
       "}});\n",
       "\n",
       "// Listen for the removal of the full notebook cells\n",
       "var notebookContainer = gd.closest('#notebook-container');\n",
       "if (notebookContainer) {{\n",
       "    x.observe(notebookContainer, {childList: true});\n",
       "}}\n",
       "\n",
       "// Listen for the clearing of the current output cell\n",
       "var outputEl = gd.closest('.output');\n",
       "if (outputEl) {{\n",
       "    x.observe(outputEl, {childList: true});\n",
       "}}\n",
       "\n",
       "                        })                };                });            </script>        </div>"
      ]
     },
     "metadata": {},
     "output_type": "display_data"
    }
   ],
   "source": [
    "px.scatter(transformed_data, x=\"child_mort\", y=\"income\", color=\"kmeans_grp\")"
   ]
  },
  {
   "cell_type": "code",
   "execution_count": 39,
   "metadata": {},
   "outputs": [
    {
     "data": {
      "image/png": "[encoded data removed]",
      "text/plain": [
       "<Figure size 1584x504 with 3 Axes>"
      ]
     },
     "metadata": {
      "needs_background": "light"
     },
     "output_type": "display_data"
    }
   ],
   "source": [
    "#Plotting box plots of all clusters formed\n",
    "plt.figure(figsize=(22,7))\n",
    "plt.subplot(1,3,1)\n",
    "sns.boxplot(x='kmeans_grp', y='gdpp', data=transformed_data)\n",
    "plt.title(\"GDP Per Capita\")\n",
    "plt.subplot(1,3,2)\n",
    "sns.boxplot(x='kmeans_grp', y='income', data=transformed_data)\n",
    "plt.title(\"Income\")\n",
    "plt.subplot(1,3,3)\n",
    "sns.boxplot(x='kmeans_grp', y='child_mort', data=transformed_data)\n",
    "plt.title(\"Child Mortality rate\")\n",
    "plt.show()"
   ]
  },
  {
   "cell_type": "markdown",
   "metadata": {},
   "source": [
    "## Clusters Formed\n",
    "* From the above box plots and scatter plots , we could see that :\n",
    "* **Group - 0** : *High Child Mortality, Low Income and Low GDP\n",
    "* **Group - 1** : *Average Child Mortality, Average Income and Average GDP\n",
    "* **Group - 2** : *Low Child Mortality, High Income and High GDP"
   ]
  },
  {
   "cell_type": "code",
   "execution_count": 44,
   "metadata": {},
   "outputs": [
    {
     "data": {
      "text/html": [
       "<div>\n",
       "<style scoped>\n",
       "    .dataframe tbody tr th:only-of-type {\n",
       "        vertical-align: middle;\n",
       "    }\n",
       "\n",
       "    .dataframe tbody tr th {\n",
       "        vertical-align: top;\n",
       "    }\n",
       "\n",
       "    .dataframe thead th {\n",
       "        text-align: right;\n",
       "    }\n",
       "</style>\n",
       "<table border=\"1\" class=\"dataframe\">\n",
       "  <thead>\n",
       "    <tr style=\"text-align: right;\">\n",
       "      <th></th>\n",
       "      <th>country</th>\n",
       "      <th>child_mort</th>\n",
       "      <th>exports</th>\n",
       "      <th>health</th>\n",
       "      <th>imports</th>\n",
       "      <th>income</th>\n",
       "      <th>inflation</th>\n",
       "      <th>life_expec</th>\n",
       "      <th>total_fer</th>\n",
       "      <th>gdpp</th>\n",
       "      <th>kmeans_grp</th>\n",
       "      <th>h_grp</th>\n",
       "    </tr>\n",
       "  </thead>\n",
       "  <tbody>\n",
       "    <tr>\n",
       "      <th>37</th>\n",
       "      <td>Congo, Dem. Rep.</td>\n",
       "      <td>116.0</td>\n",
       "      <td>41.10</td>\n",
       "      <td>7.91</td>\n",
       "      <td>49.6</td>\n",
       "      <td>609</td>\n",
       "      <td>20.80</td>\n",
       "      <td>57.5</td>\n",
       "      <td>6.54</td>\n",
       "      <td>334</td>\n",
       "      <td>0</td>\n",
       "      <td>0</td>\n",
       "    </tr>\n",
       "    <tr>\n",
       "      <th>88</th>\n",
       "      <td>Liberia</td>\n",
       "      <td>89.3</td>\n",
       "      <td>19.10</td>\n",
       "      <td>11.80</td>\n",
       "      <td>92.6</td>\n",
       "      <td>700</td>\n",
       "      <td>5.47</td>\n",
       "      <td>60.8</td>\n",
       "      <td>5.02</td>\n",
       "      <td>327</td>\n",
       "      <td>0</td>\n",
       "      <td>0</td>\n",
       "    </tr>\n",
       "    <tr>\n",
       "      <th>26</th>\n",
       "      <td>Burundi</td>\n",
       "      <td>93.6</td>\n",
       "      <td>8.92</td>\n",
       "      <td>11.60</td>\n",
       "      <td>39.2</td>\n",
       "      <td>764</td>\n",
       "      <td>12.30</td>\n",
       "      <td>57.7</td>\n",
       "      <td>6.26</td>\n",
       "      <td>231</td>\n",
       "      <td>0</td>\n",
       "      <td>0</td>\n",
       "    </tr>\n",
       "    <tr>\n",
       "      <th>112</th>\n",
       "      <td>Niger</td>\n",
       "      <td>123.0</td>\n",
       "      <td>22.20</td>\n",
       "      <td>5.16</td>\n",
       "      <td>49.1</td>\n",
       "      <td>814</td>\n",
       "      <td>2.55</td>\n",
       "      <td>58.8</td>\n",
       "      <td>7.49</td>\n",
       "      <td>348</td>\n",
       "      <td>0</td>\n",
       "      <td>0</td>\n",
       "    </tr>\n",
       "    <tr>\n",
       "      <th>31</th>\n",
       "      <td>Central African Republic</td>\n",
       "      <td>149.0</td>\n",
       "      <td>11.80</td>\n",
       "      <td>3.98</td>\n",
       "      <td>26.5</td>\n",
       "      <td>888</td>\n",
       "      <td>2.01</td>\n",
       "      <td>47.5</td>\n",
       "      <td>5.21</td>\n",
       "      <td>446</td>\n",
       "      <td>0</td>\n",
       "      <td>0</td>\n",
       "    </tr>\n",
       "    <tr>\n",
       "      <th>106</th>\n",
       "      <td>Mozambique</td>\n",
       "      <td>101.0</td>\n",
       "      <td>31.50</td>\n",
       "      <td>5.21</td>\n",
       "      <td>46.2</td>\n",
       "      <td>918</td>\n",
       "      <td>7.64</td>\n",
       "      <td>54.5</td>\n",
       "      <td>5.56</td>\n",
       "      <td>419</td>\n",
       "      <td>0</td>\n",
       "      <td>0</td>\n",
       "    </tr>\n",
       "    <tr>\n",
       "      <th>94</th>\n",
       "      <td>Malawi</td>\n",
       "      <td>90.5</td>\n",
       "      <td>22.80</td>\n",
       "      <td>6.59</td>\n",
       "      <td>34.9</td>\n",
       "      <td>1030</td>\n",
       "      <td>12.10</td>\n",
       "      <td>53.1</td>\n",
       "      <td>5.31</td>\n",
       "      <td>459</td>\n",
       "      <td>0</td>\n",
       "      <td>0</td>\n",
       "    </tr>\n",
       "    <tr>\n",
       "      <th>63</th>\n",
       "      <td>Guinea</td>\n",
       "      <td>109.0</td>\n",
       "      <td>30.30</td>\n",
       "      <td>4.93</td>\n",
       "      <td>43.2</td>\n",
       "      <td>1190</td>\n",
       "      <td>16.10</td>\n",
       "      <td>58.0</td>\n",
       "      <td>5.34</td>\n",
       "      <td>648</td>\n",
       "      <td>0</td>\n",
       "      <td>0</td>\n",
       "    </tr>\n",
       "    <tr>\n",
       "      <th>150</th>\n",
       "      <td>Togo</td>\n",
       "      <td>90.3</td>\n",
       "      <td>40.20</td>\n",
       "      <td>7.65</td>\n",
       "      <td>57.3</td>\n",
       "      <td>1210</td>\n",
       "      <td>1.18</td>\n",
       "      <td>58.7</td>\n",
       "      <td>4.87</td>\n",
       "      <td>488</td>\n",
       "      <td>0</td>\n",
       "      <td>0</td>\n",
       "    </tr>\n",
       "    <tr>\n",
       "      <th>132</th>\n",
       "      <td>Sierra Leone</td>\n",
       "      <td>160.0</td>\n",
       "      <td>16.80</td>\n",
       "      <td>13.10</td>\n",
       "      <td>34.5</td>\n",
       "      <td>1220</td>\n",
       "      <td>17.20</td>\n",
       "      <td>55.0</td>\n",
       "      <td>5.20</td>\n",
       "      <td>399</td>\n",
       "      <td>0</td>\n",
       "      <td>0</td>\n",
       "    </tr>\n",
       "  </tbody>\n",
       "</table>\n",
       "</div>"
      ],
      "text/plain": [
       "                      country  child_mort  exports  health  imports  income  \\\n",
       "37           Congo, Dem. Rep.       116.0    41.10    7.91     49.6     609   \n",
       "88                    Liberia        89.3    19.10   11.80     92.6     700   \n",
       "26                    Burundi        93.6     8.92   11.60     39.2     764   \n",
       "112                     Niger       123.0    22.20    5.16     49.1     814   \n",
       "31   Central African Republic       149.0    11.80    3.98     26.5     888   \n",
       "106                Mozambique       101.0    31.50    5.21     46.2     918   \n",
       "94                     Malawi        90.5    22.80    6.59     34.9    1030   \n",
       "63                     Guinea       109.0    30.30    4.93     43.2    1190   \n",
       "150                      Togo        90.3    40.20    7.65     57.3    1210   \n",
       "132              Sierra Leone       160.0    16.80   13.10     34.5    1220   \n",
       "\n",
       "     inflation  life_expec  total_fer  gdpp  kmeans_grp  h_grp  \n",
       "37       20.80        57.5       6.54   334           0      0  \n",
       "88        5.47        60.8       5.02   327           0      0  \n",
       "26       12.30        57.7       6.26   231           0      0  \n",
       "112       2.55        58.8       7.49   348           0      0  \n",
       "31        2.01        47.5       5.21   446           0      0  \n",
       "106       7.64        54.5       5.56   419           0      0  \n",
       "94       12.10        53.1       5.31   459           0      0  \n",
       "63       16.10        58.0       5.34   648           0      0  \n",
       "150       1.18        58.7       4.87   488           0      0  \n",
       "132      17.20        55.0       5.20   399           0      0  "
      ]
     },
     "execution_count": 44,
     "metadata": {},
     "output_type": "execute_result"
    }
   ],
   "source": [
    "df_data[df_data.kmeans_grp==0].sort_values(by=[\"income\",\"gdpp\",\"child_mort\"]).head(10)"
   ]
  },
  {
   "cell_type": "code",
   "execution_count": 45,
   "metadata": {},
   "outputs": [
    {
     "data": {
      "text/html": [
       "<div>\n",
       "<style scoped>\n",
       "    .dataframe tbody tr th:only-of-type {\n",
       "        vertical-align: middle;\n",
       "    }\n",
       "\n",
       "    .dataframe tbody tr th {\n",
       "        vertical-align: top;\n",
       "    }\n",
       "\n",
       "    .dataframe thead th {\n",
       "        text-align: right;\n",
       "    }\n",
       "</style>\n",
       "<table border=\"1\" class=\"dataframe\">\n",
       "  <thead>\n",
       "    <tr style=\"text-align: right;\">\n",
       "      <th></th>\n",
       "      <th>country</th>\n",
       "      <th>child_mort</th>\n",
       "      <th>exports</th>\n",
       "      <th>health</th>\n",
       "      <th>imports</th>\n",
       "      <th>income</th>\n",
       "      <th>inflation</th>\n",
       "      <th>life_expec</th>\n",
       "      <th>total_fer</th>\n",
       "      <th>gdpp</th>\n",
       "      <th>kmeans_grp</th>\n",
       "      <th>h_grp</th>\n",
       "    </tr>\n",
       "  </thead>\n",
       "  <tbody>\n",
       "    <tr>\n",
       "      <th>37</th>\n",
       "      <td>Congo, Dem. Rep.</td>\n",
       "      <td>116.0</td>\n",
       "      <td>41.10</td>\n",
       "      <td>7.91</td>\n",
       "      <td>49.6</td>\n",
       "      <td>609</td>\n",
       "      <td>20.80</td>\n",
       "      <td>57.5</td>\n",
       "      <td>6.54</td>\n",
       "      <td>334</td>\n",
       "      <td>0</td>\n",
       "      <td>0</td>\n",
       "    </tr>\n",
       "    <tr>\n",
       "      <th>88</th>\n",
       "      <td>Liberia</td>\n",
       "      <td>89.3</td>\n",
       "      <td>19.10</td>\n",
       "      <td>11.80</td>\n",
       "      <td>92.6</td>\n",
       "      <td>700</td>\n",
       "      <td>5.47</td>\n",
       "      <td>60.8</td>\n",
       "      <td>5.02</td>\n",
       "      <td>327</td>\n",
       "      <td>0</td>\n",
       "      <td>0</td>\n",
       "    </tr>\n",
       "    <tr>\n",
       "      <th>26</th>\n",
       "      <td>Burundi</td>\n",
       "      <td>93.6</td>\n",
       "      <td>8.92</td>\n",
       "      <td>11.60</td>\n",
       "      <td>39.2</td>\n",
       "      <td>764</td>\n",
       "      <td>12.30</td>\n",
       "      <td>57.7</td>\n",
       "      <td>6.26</td>\n",
       "      <td>231</td>\n",
       "      <td>0</td>\n",
       "      <td>0</td>\n",
       "    </tr>\n",
       "    <tr>\n",
       "      <th>112</th>\n",
       "      <td>Niger</td>\n",
       "      <td>123.0</td>\n",
       "      <td>22.20</td>\n",
       "      <td>5.16</td>\n",
       "      <td>49.1</td>\n",
       "      <td>814</td>\n",
       "      <td>2.55</td>\n",
       "      <td>58.8</td>\n",
       "      <td>7.49</td>\n",
       "      <td>348</td>\n",
       "      <td>0</td>\n",
       "      <td>0</td>\n",
       "    </tr>\n",
       "    <tr>\n",
       "      <th>31</th>\n",
       "      <td>Central African Republic</td>\n",
       "      <td>149.0</td>\n",
       "      <td>11.80</td>\n",
       "      <td>3.98</td>\n",
       "      <td>26.5</td>\n",
       "      <td>888</td>\n",
       "      <td>2.01</td>\n",
       "      <td>47.5</td>\n",
       "      <td>5.21</td>\n",
       "      <td>446</td>\n",
       "      <td>0</td>\n",
       "      <td>0</td>\n",
       "    </tr>\n",
       "    <tr>\n",
       "      <th>106</th>\n",
       "      <td>Mozambique</td>\n",
       "      <td>101.0</td>\n",
       "      <td>31.50</td>\n",
       "      <td>5.21</td>\n",
       "      <td>46.2</td>\n",
       "      <td>918</td>\n",
       "      <td>7.64</td>\n",
       "      <td>54.5</td>\n",
       "      <td>5.56</td>\n",
       "      <td>419</td>\n",
       "      <td>0</td>\n",
       "      <td>0</td>\n",
       "    </tr>\n",
       "    <tr>\n",
       "      <th>94</th>\n",
       "      <td>Malawi</td>\n",
       "      <td>90.5</td>\n",
       "      <td>22.80</td>\n",
       "      <td>6.59</td>\n",
       "      <td>34.9</td>\n",
       "      <td>1030</td>\n",
       "      <td>12.10</td>\n",
       "      <td>53.1</td>\n",
       "      <td>5.31</td>\n",
       "      <td>459</td>\n",
       "      <td>0</td>\n",
       "      <td>0</td>\n",
       "    </tr>\n",
       "    <tr>\n",
       "      <th>63</th>\n",
       "      <td>Guinea</td>\n",
       "      <td>109.0</td>\n",
       "      <td>30.30</td>\n",
       "      <td>4.93</td>\n",
       "      <td>43.2</td>\n",
       "      <td>1190</td>\n",
       "      <td>16.10</td>\n",
       "      <td>58.0</td>\n",
       "      <td>5.34</td>\n",
       "      <td>648</td>\n",
       "      <td>0</td>\n",
       "      <td>0</td>\n",
       "    </tr>\n",
       "    <tr>\n",
       "      <th>150</th>\n",
       "      <td>Togo</td>\n",
       "      <td>90.3</td>\n",
       "      <td>40.20</td>\n",
       "      <td>7.65</td>\n",
       "      <td>57.3</td>\n",
       "      <td>1210</td>\n",
       "      <td>1.18</td>\n",
       "      <td>58.7</td>\n",
       "      <td>4.87</td>\n",
       "      <td>488</td>\n",
       "      <td>0</td>\n",
       "      <td>0</td>\n",
       "    </tr>\n",
       "    <tr>\n",
       "      <th>132</th>\n",
       "      <td>Sierra Leone</td>\n",
       "      <td>160.0</td>\n",
       "      <td>16.80</td>\n",
       "      <td>13.10</td>\n",
       "      <td>34.5</td>\n",
       "      <td>1220</td>\n",
       "      <td>17.20</td>\n",
       "      <td>55.0</td>\n",
       "      <td>5.20</td>\n",
       "      <td>399</td>\n",
       "      <td>0</td>\n",
       "      <td>0</td>\n",
       "    </tr>\n",
       "  </tbody>\n",
       "</table>\n",
       "</div>"
      ],
      "text/plain": [
       "                      country  child_mort  exports  health  imports  income  \\\n",
       "37           Congo, Dem. Rep.       116.0    41.10    7.91     49.6     609   \n",
       "88                    Liberia        89.3    19.10   11.80     92.6     700   \n",
       "26                    Burundi        93.6     8.92   11.60     39.2     764   \n",
       "112                     Niger       123.0    22.20    5.16     49.1     814   \n",
       "31   Central African Republic       149.0    11.80    3.98     26.5     888   \n",
       "106                Mozambique       101.0    31.50    5.21     46.2     918   \n",
       "94                     Malawi        90.5    22.80    6.59     34.9    1030   \n",
       "63                     Guinea       109.0    30.30    4.93     43.2    1190   \n",
       "150                      Togo        90.3    40.20    7.65     57.3    1210   \n",
       "132              Sierra Leone       160.0    16.80   13.10     34.5    1220   \n",
       "\n",
       "     inflation  life_expec  total_fer  gdpp  kmeans_grp  h_grp  \n",
       "37       20.80        57.5       6.54   334           0      0  \n",
       "88        5.47        60.8       5.02   327           0      0  \n",
       "26       12.30        57.7       6.26   231           0      0  \n",
       "112       2.55        58.8       7.49   348           0      0  \n",
       "31        2.01        47.5       5.21   446           0      0  \n",
       "106       7.64        54.5       5.56   419           0      0  \n",
       "94       12.10        53.1       5.31   459           0      0  \n",
       "63       16.10        58.0       5.34   648           0      0  \n",
       "150       1.18        58.7       4.87   488           0      0  \n",
       "132      17.20        55.0       5.20   399           0      0  "
      ]
     },
     "execution_count": 45,
     "metadata": {},
     "output_type": "execute_result"
    }
   ],
   "source": [
    "df_data[df_data.h_grp==0].sort_values(by=[\"income\",\"gdpp\",\"child_mort\"]).head(10)"
   ]
  },
  {
   "cell_type": "code",
   "execution_count": 46,
   "metadata": {},
   "outputs": [
    {
     "data": {
      "text/html": [
       "<div>\n",
       "<style scoped>\n",
       "    .dataframe tbody tr th:only-of-type {\n",
       "        vertical-align: middle;\n",
       "    }\n",
       "\n",
       "    .dataframe tbody tr th {\n",
       "        vertical-align: top;\n",
       "    }\n",
       "\n",
       "    .dataframe thead th {\n",
       "        text-align: right;\n",
       "    }\n",
       "</style>\n",
       "<table border=\"1\" class=\"dataframe\">\n",
       "  <thead>\n",
       "    <tr style=\"text-align: right;\">\n",
       "      <th></th>\n",
       "      <th>country</th>\n",
       "      <th>child_mort</th>\n",
       "      <th>exports</th>\n",
       "      <th>health</th>\n",
       "      <th>imports</th>\n",
       "      <th>income</th>\n",
       "      <th>inflation</th>\n",
       "      <th>life_expec</th>\n",
       "      <th>total_fer</th>\n",
       "      <th>gdpp</th>\n",
       "      <th>kmeans_grp</th>\n",
       "      <th>h_grp</th>\n",
       "    </tr>\n",
       "  </thead>\n",
       "  <tbody>\n",
       "    <tr>\n",
       "      <th>4</th>\n",
       "      <td>Antigua and Barbuda</td>\n",
       "      <td>10.3</td>\n",
       "      <td>45.5</td>\n",
       "      <td>6.03</td>\n",
       "      <td>58.9</td>\n",
       "      <td>19100</td>\n",
       "      <td>1.440</td>\n",
       "      <td>76.8</td>\n",
       "      <td>2.13</td>\n",
       "      <td>12200</td>\n",
       "      <td>2</td>\n",
       "      <td>1</td>\n",
       "    </tr>\n",
       "    <tr>\n",
       "      <th>10</th>\n",
       "      <td>Bahamas</td>\n",
       "      <td>13.8</td>\n",
       "      <td>35.0</td>\n",
       "      <td>7.89</td>\n",
       "      <td>43.7</td>\n",
       "      <td>22900</td>\n",
       "      <td>-0.393</td>\n",
       "      <td>73.8</td>\n",
       "      <td>1.86</td>\n",
       "      <td>28000</td>\n",
       "      <td>2</td>\n",
       "      <td>1</td>\n",
       "    </tr>\n",
       "    <tr>\n",
       "      <th>13</th>\n",
       "      <td>Barbados</td>\n",
       "      <td>14.2</td>\n",
       "      <td>39.5</td>\n",
       "      <td>7.97</td>\n",
       "      <td>48.7</td>\n",
       "      <td>15300</td>\n",
       "      <td>0.321</td>\n",
       "      <td>76.7</td>\n",
       "      <td>1.78</td>\n",
       "      <td>16000</td>\n",
       "      <td>2</td>\n",
       "      <td>1</td>\n",
       "    </tr>\n",
       "    <tr>\n",
       "      <th>41</th>\n",
       "      <td>Croatia</td>\n",
       "      <td>5.5</td>\n",
       "      <td>37.6</td>\n",
       "      <td>7.76</td>\n",
       "      <td>38.1</td>\n",
       "      <td>20100</td>\n",
       "      <td>0.821</td>\n",
       "      <td>76.3</td>\n",
       "      <td>1.55</td>\n",
       "      <td>13500</td>\n",
       "      <td>2</td>\n",
       "      <td>1</td>\n",
       "    </tr>\n",
       "    <tr>\n",
       "      <th>51</th>\n",
       "      <td>Estonia</td>\n",
       "      <td>4.5</td>\n",
       "      <td>75.1</td>\n",
       "      <td>6.03</td>\n",
       "      <td>68.7</td>\n",
       "      <td>22700</td>\n",
       "      <td>1.740</td>\n",
       "      <td>76.0</td>\n",
       "      <td>1.72</td>\n",
       "      <td>14600</td>\n",
       "      <td>2</td>\n",
       "      <td>1</td>\n",
       "    </tr>\n",
       "    <tr>\n",
       "      <th>67</th>\n",
       "      <td>Hungary</td>\n",
       "      <td>6.0</td>\n",
       "      <td>81.8</td>\n",
       "      <td>7.33</td>\n",
       "      <td>76.5</td>\n",
       "      <td>22300</td>\n",
       "      <td>2.330</td>\n",
       "      <td>74.5</td>\n",
       "      <td>1.25</td>\n",
       "      <td>13100</td>\n",
       "      <td>2</td>\n",
       "      <td>1</td>\n",
       "    </tr>\n",
       "    <tr>\n",
       "      <th>85</th>\n",
       "      <td>Latvia</td>\n",
       "      <td>7.8</td>\n",
       "      <td>53.7</td>\n",
       "      <td>6.68</td>\n",
       "      <td>55.1</td>\n",
       "      <td>18300</td>\n",
       "      <td>-0.812</td>\n",
       "      <td>73.1</td>\n",
       "      <td>1.36</td>\n",
       "      <td>11300</td>\n",
       "      <td>2</td>\n",
       "      <td>1</td>\n",
       "    </tr>\n",
       "    <tr>\n",
       "      <th>86</th>\n",
       "      <td>Lebanon</td>\n",
       "      <td>10.3</td>\n",
       "      <td>35.8</td>\n",
       "      <td>7.03</td>\n",
       "      <td>60.2</td>\n",
       "      <td>16300</td>\n",
       "      <td>0.238</td>\n",
       "      <td>79.8</td>\n",
       "      <td>1.61</td>\n",
       "      <td>8860</td>\n",
       "      <td>2</td>\n",
       "      <td>1</td>\n",
       "    </tr>\n",
       "    <tr>\n",
       "      <th>90</th>\n",
       "      <td>Lithuania</td>\n",
       "      <td>6.1</td>\n",
       "      <td>65.3</td>\n",
       "      <td>7.04</td>\n",
       "      <td>67.2</td>\n",
       "      <td>21100</td>\n",
       "      <td>2.380</td>\n",
       "      <td>73.2</td>\n",
       "      <td>1.50</td>\n",
       "      <td>12000</td>\n",
       "      <td>2</td>\n",
       "      <td>1</td>\n",
       "    </tr>\n",
       "    <tr>\n",
       "      <th>121</th>\n",
       "      <td>Poland</td>\n",
       "      <td>6.0</td>\n",
       "      <td>40.1</td>\n",
       "      <td>7.46</td>\n",
       "      <td>42.1</td>\n",
       "      <td>21800</td>\n",
       "      <td>1.660</td>\n",
       "      <td>76.3</td>\n",
       "      <td>1.41</td>\n",
       "      <td>12600</td>\n",
       "      <td>2</td>\n",
       "      <td>1</td>\n",
       "    </tr>\n",
       "    <tr>\n",
       "      <th>134</th>\n",
       "      <td>Slovak Republic</td>\n",
       "      <td>7.0</td>\n",
       "      <td>76.3</td>\n",
       "      <td>8.79</td>\n",
       "      <td>77.8</td>\n",
       "      <td>25200</td>\n",
       "      <td>0.485</td>\n",
       "      <td>75.5</td>\n",
       "      <td>1.43</td>\n",
       "      <td>16600</td>\n",
       "      <td>2</td>\n",
       "      <td>1</td>\n",
       "    </tr>\n",
       "  </tbody>\n",
       "</table>\n",
       "</div>"
      ],
      "text/plain": [
       "                 country  child_mort  exports  health  imports  income  \\\n",
       "4    Antigua and Barbuda        10.3     45.5    6.03     58.9   19100   \n",
       "10               Bahamas        13.8     35.0    7.89     43.7   22900   \n",
       "13              Barbados        14.2     39.5    7.97     48.7   15300   \n",
       "41               Croatia         5.5     37.6    7.76     38.1   20100   \n",
       "51               Estonia         4.5     75.1    6.03     68.7   22700   \n",
       "67               Hungary         6.0     81.8    7.33     76.5   22300   \n",
       "85                Latvia         7.8     53.7    6.68     55.1   18300   \n",
       "86               Lebanon        10.3     35.8    7.03     60.2   16300   \n",
       "90             Lithuania         6.1     65.3    7.04     67.2   21100   \n",
       "121               Poland         6.0     40.1    7.46     42.1   21800   \n",
       "134      Slovak Republic         7.0     76.3    8.79     77.8   25200   \n",
       "\n",
       "     inflation  life_expec  total_fer   gdpp  kmeans_grp  h_grp  \n",
       "4        1.440        76.8       2.13  12200           2      1  \n",
       "10      -0.393        73.8       1.86  28000           2      1  \n",
       "13       0.321        76.7       1.78  16000           2      1  \n",
       "41       0.821        76.3       1.55  13500           2      1  \n",
       "51       1.740        76.0       1.72  14600           2      1  \n",
       "67       2.330        74.5       1.25  13100           2      1  \n",
       "85      -0.812        73.1       1.36  11300           2      1  \n",
       "86       0.238        79.8       1.61   8860           2      1  \n",
       "90       2.380        73.2       1.50  12000           2      1  \n",
       "121      1.660        76.3       1.41  12600           2      1  \n",
       "134      0.485        75.5       1.43  16600           2      1  "
      ]
     },
     "execution_count": 46,
     "metadata": {},
     "output_type": "execute_result"
    }
   ],
   "source": [
    "df_data[df_data.kmeans_grp != df_data.h_grp]"
   ]
  },
  {
   "cell_type": "markdown",
   "metadata": {},
   "source": [
    "#### From above comparision,  we could see there some countries are classified under group 2 in KMeans is classified as Group 1 in Heirarchical clustering"
   ]
  },
  {
   "cell_type": "code",
   "execution_count": null,
   "metadata": {},
   "outputs": [],
   "source": []
  }
 ],
 "metadata": {
  "kernelspec": {
   "display_name": "Python 3",
   "language": "python",
   "name": "python3"
  },
  "language_info": {
   "codemirror_mode": {
    "name": "ipython",
    "version": 3
   },
   "file_extension": ".py",
   "mimetype": "text/x-python",
   "name": "python",
   "nbconvert_exporter": "python",
   "pygments_lexer": "ipython3",
   "version": "3.8.3"
  }
 },
 "nbformat": 4,
 "nbformat_minor": 4
}
